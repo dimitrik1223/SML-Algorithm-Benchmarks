{
 "cells": [
  {
   "cell_type": "markdown",
   "id": "5efe7953",
   "metadata": {},
   "source": [
    "# Algorithm Benchmarks"
   ]
  },
  {
   "cell_type": "code",
   "execution_count": 1,
   "id": "252a6756",
   "metadata": {},
   "outputs": [],
   "source": [
    "import pandas as pd\n",
    "import numpy as np\n",
    "import os\n",
    "import matplotlib.pyplot as plt\n",
    "import seaborn as sns\n",
    "from sklearn.model_selection import train_test_split\n",
    "from scipy.stats          import pearsonr\n",
    "from statsmodels.api import OLS\n",
    "import statsmodels.api as sm\n",
    "from sklearn.linear_model import LinearRegression\n",
    "from sklearn.linear_model import LogisticRegression\n",
    "from mlxtend.feature_selection import SequentialFeatureSelector as sfs\n",
    "from sklearn.model_selection import cross_val_score\n",
    "from sklearn.tree import DecisionTreeClassifier\n",
    "from sklearn.ensemble import RandomForestClassifier\n",
    "from sklearn import metrics\n",
    "from sklearn.svm import LinearSVC \n",
    "from sklearn.svm import SVC\n",
    "import missingno as msno\n",
    "from sklearn.impute import SimpleImputer\n",
    "from sklearn.model_selection import GridSearchCV\n",
    "from sklearn.model_selection import RandomizedSearchCV"
   ]
  },
  {
   "cell_type": "code",
   "execution_count": 2,
   "id": "94028db3",
   "metadata": {},
   "outputs": [],
   "source": [
    "#sourced from sklearn documentation\n",
    "def correlation(dataset, threshold):\n",
    "    col_corr = set() # Set of all names of correlated columns\n",
    "    corr_matrix = dataset.corr()\n",
    "    for i in range(len(corr_matrix.columns)):\n",
    "        for j in range(i):\n",
    "            if abs(corr_matrix.iloc[i, j]) > threshold: \n",
    "                colname = corr_matrix.columns[i]\n",
    "                col_corr.add(colname)\n",
    "    return col_corr"
   ]
  },
  {
   "cell_type": "code",
   "execution_count": 3,
   "id": "8855e132",
   "metadata": {},
   "outputs": [
    {
     "data": {
      "text/plain": [
       "'C:\\\\Users\\\\dkestenbaum\\\\Desktop\\\\SML Individual Project'"
      ]
     },
     "execution_count": 3,
     "metadata": {},
     "output_type": "execute_result"
    }
   ],
   "source": [
    "os.getcwd()"
   ]
  },
  {
   "cell_type": "markdown",
   "id": "d4bd866b",
   "metadata": {},
   "source": [
    "## Credit Card Default Data"
   ]
  },
  {
   "cell_type": "markdown",
   "id": "4d107a71",
   "metadata": {},
   "source": [
    "* cust_id (numeric)\n",
    "* X1: Amount of the given credit (NT dollar): it includes both the individual consumer credit and his/her family (supplementary) credit.\n",
    "* X2: Gender (1 = male; 2 = female).\n",
    "* X3: Education (1 = graduate school; 2 = university; 3 = high school; 4 = others).\n",
    "* X4: Marital status (1 = married; 2 = single; 3 = others).\n",
    "* X5: Age (year).\n",
    "* X6 - X11: History of past payment. We tracked the past monthly payment records (from April to September, 2005) as follows: X6 = the repayment status in September, 2005; X7 = the repayment status in August, 2005; . . .;X11 = the repayment status in April, 2005. The measurement scale for the repayment status is: -1 = pay duly; 1 = payment delay for one month; 2 = payment delay for two months; . . .; 8 = payment delay for eight months; 9 = payment delay for nine months and above.\n",
    "* X12-X17: Amount of bill statement (NT dollar). X12 = amount of bill statement in September, 2005; X13 = amount of bill statement in August, 2005; . . .; X17 = amount of bill statement in April, 2005.\n",
    "* X18-X23: Amount of previous payment (NT dollar). X18 = amount paid in September, 2005; X19 = amount paid in August, 2005; . . .;X23 = amount paid in April, 2005.\n",
    "* default.payment.next.month: binary variable, default payment (Yes = 1, No = 0)"
   ]
  },
  {
   "cell_type": "markdown",
   "id": "d30c048a",
   "metadata": {},
   "source": [
    "## Linear Regression Benchmark"
   ]
  },
  {
   "cell_type": "markdown",
   "id": "7e1d96e7",
   "metadata": {},
   "source": [
    "Here I will implement `statmodles`' linear regression model to predict `LIMIT_BAL`. While I'm aware that this dataset is intended for classification. I wanted to demonstrate my knowledge and undertsanding of linear regression as it was the first algorithm learned in this course. "
   ]
  },
  {
   "cell_type": "code",
   "execution_count": 4,
   "id": "c587a02c",
   "metadata": {},
   "outputs": [],
   "source": [
    "#read the data\n",
    "train_df = pd.read_csv('credit_default_train.csv')"
   ]
  },
  {
   "cell_type": "code",
   "execution_count": 5,
   "id": "c07adc15",
   "metadata": {
    "scrolled": false
   },
   "outputs": [
    {
     "data": {
      "text/html": [
       "<div>\n",
       "<style scoped>\n",
       "    .dataframe tbody tr th:only-of-type {\n",
       "        vertical-align: middle;\n",
       "    }\n",
       "\n",
       "    .dataframe tbody tr th {\n",
       "        vertical-align: top;\n",
       "    }\n",
       "\n",
       "    .dataframe thead th {\n",
       "        text-align: right;\n",
       "    }\n",
       "</style>\n",
       "<table border=\"1\" class=\"dataframe\">\n",
       "  <thead>\n",
       "    <tr style=\"text-align: right;\">\n",
       "      <th></th>\n",
       "      <th>cust_id</th>\n",
       "      <th>LIMIT_BAL</th>\n",
       "      <th>SEX</th>\n",
       "      <th>EDUCATION</th>\n",
       "      <th>MARRIAGE</th>\n",
       "      <th>AGE</th>\n",
       "      <th>PAY_0</th>\n",
       "      <th>PAY_2</th>\n",
       "      <th>PAY_3</th>\n",
       "      <th>PAY_4</th>\n",
       "      <th>...</th>\n",
       "      <th>BILL_AMT4</th>\n",
       "      <th>BILL_AMT5</th>\n",
       "      <th>BILL_AMT6</th>\n",
       "      <th>PAY_AMT1</th>\n",
       "      <th>PAY_AMT2</th>\n",
       "      <th>PAY_AMT3</th>\n",
       "      <th>PAY_AMT4</th>\n",
       "      <th>PAY_AMT5</th>\n",
       "      <th>PAY_AMT6</th>\n",
       "      <th>default.payment.next.month</th>\n",
       "    </tr>\n",
       "  </thead>\n",
       "  <tbody>\n",
       "    <tr>\n",
       "      <th>0</th>\n",
       "      <td>18895</td>\n",
       "      <td>70000.0</td>\n",
       "      <td>1.0</td>\n",
       "      <td>3.0</td>\n",
       "      <td>2.0</td>\n",
       "      <td>34.0</td>\n",
       "      <td>0.0</td>\n",
       "      <td>0.0</td>\n",
       "      <td>0.0</td>\n",
       "      <td>0.0</td>\n",
       "      <td>...</td>\n",
       "      <td>25559.0</td>\n",
       "      <td>26134.0</td>\n",
       "      <td>26715.0</td>\n",
       "      <td>1700.0</td>\n",
       "      <td>1500.0</td>\n",
       "      <td>2000.0</td>\n",
       "      <td>1000.0</td>\n",
       "      <td>1000.0</td>\n",
       "      <td>2000.0</td>\n",
       "      <td>0</td>\n",
       "    </tr>\n",
       "    <tr>\n",
       "      <th>1</th>\n",
       "      <td>25102</td>\n",
       "      <td>390000.0</td>\n",
       "      <td>2.0</td>\n",
       "      <td>2.0</td>\n",
       "      <td>2.0</td>\n",
       "      <td>26.0</td>\n",
       "      <td>2.0</td>\n",
       "      <td>2.0</td>\n",
       "      <td>2.0</td>\n",
       "      <td>0.0</td>\n",
       "      <td>...</td>\n",
       "      <td>140387.0</td>\n",
       "      <td>128112.0</td>\n",
       "      <td>115514.0</td>\n",
       "      <td>5000.0</td>\n",
       "      <td>3000.0</td>\n",
       "      <td>5000.0</td>\n",
       "      <td>4548.0</td>\n",
       "      <td>4100.0</td>\n",
       "      <td>3300.0</td>\n",
       "      <td>0</td>\n",
       "    </tr>\n",
       "    <tr>\n",
       "      <th>2</th>\n",
       "      <td>28867</td>\n",
       "      <td>60000.0</td>\n",
       "      <td>1.0</td>\n",
       "      <td>1.0</td>\n",
       "      <td>2.0</td>\n",
       "      <td>27.0</td>\n",
       "      <td>0.0</td>\n",
       "      <td>0.0</td>\n",
       "      <td>0.0</td>\n",
       "      <td>0.0</td>\n",
       "      <td>...</td>\n",
       "      <td>26038.0</td>\n",
       "      <td>28607.0</td>\n",
       "      <td>27997.0</td>\n",
       "      <td>1378.0</td>\n",
       "      <td>1406.0</td>\n",
       "      <td>3000.0</td>\n",
       "      <td>3000.0</td>\n",
       "      <td>0.0</td>\n",
       "      <td>923.0</td>\n",
       "      <td>1</td>\n",
       "    </tr>\n",
       "    <tr>\n",
       "      <th>3</th>\n",
       "      <td>1842</td>\n",
       "      <td>140000.0</td>\n",
       "      <td>2.0</td>\n",
       "      <td>2.0</td>\n",
       "      <td>1.0</td>\n",
       "      <td>55.0</td>\n",
       "      <td>0.0</td>\n",
       "      <td>0.0</td>\n",
       "      <td>0.0</td>\n",
       "      <td>0.0</td>\n",
       "      <td>...</td>\n",
       "      <td>72391.0</td>\n",
       "      <td>61298.0</td>\n",
       "      <td>62193.0</td>\n",
       "      <td>4200.0</td>\n",
       "      <td>2822.0</td>\n",
       "      <td>2336.0</td>\n",
       "      <td>2588.0</td>\n",
       "      <td>2250.0</td>\n",
       "      <td>2491.0</td>\n",
       "      <td>0</td>\n",
       "    </tr>\n",
       "    <tr>\n",
       "      <th>4</th>\n",
       "      <td>3371</td>\n",
       "      <td>50000.0</td>\n",
       "      <td>1.0</td>\n",
       "      <td>1.0</td>\n",
       "      <td>2.0</td>\n",
       "      <td>29.0</td>\n",
       "      <td>2.0</td>\n",
       "      <td>2.0</td>\n",
       "      <td>2.0</td>\n",
       "      <td>0.0</td>\n",
       "      <td>...</td>\n",
       "      <td>1047.0</td>\n",
       "      <td>0.0</td>\n",
       "      <td>0.0</td>\n",
       "      <td>3000.0</td>\n",
       "      <td>0.0</td>\n",
       "      <td>1000.0</td>\n",
       "      <td>0.0</td>\n",
       "      <td>0.0</td>\n",
       "      <td>0.0</td>\n",
       "      <td>1</td>\n",
       "    </tr>\n",
       "  </tbody>\n",
       "</table>\n",
       "<p>5 rows × 25 columns</p>\n",
       "</div>"
      ],
      "text/plain": [
       "   cust_id  LIMIT_BAL  SEX  EDUCATION  MARRIAGE   AGE  PAY_0  PAY_2  PAY_3  \\\n",
       "0    18895    70000.0  1.0        3.0       2.0  34.0    0.0    0.0    0.0   \n",
       "1    25102   390000.0  2.0        2.0       2.0  26.0    2.0    2.0    2.0   \n",
       "2    28867    60000.0  1.0        1.0       2.0  27.0    0.0    0.0    0.0   \n",
       "3     1842   140000.0  2.0        2.0       1.0  55.0    0.0    0.0    0.0   \n",
       "4     3371    50000.0  1.0        1.0       2.0  29.0    2.0    2.0    2.0   \n",
       "\n",
       "   PAY_4  ...  BILL_AMT4  BILL_AMT5  BILL_AMT6  PAY_AMT1  PAY_AMT2  PAY_AMT3  \\\n",
       "0    0.0  ...    25559.0    26134.0    26715.0    1700.0    1500.0    2000.0   \n",
       "1    0.0  ...   140387.0   128112.0   115514.0    5000.0    3000.0    5000.0   \n",
       "2    0.0  ...    26038.0    28607.0    27997.0    1378.0    1406.0    3000.0   \n",
       "3    0.0  ...    72391.0    61298.0    62193.0    4200.0    2822.0    2336.0   \n",
       "4    0.0  ...     1047.0        0.0        0.0    3000.0       0.0    1000.0   \n",
       "\n",
       "   PAY_AMT4  PAY_AMT5  PAY_AMT6  default.payment.next.month  \n",
       "0    1000.0    1000.0    2000.0                           0  \n",
       "1    4548.0    4100.0    3300.0                           0  \n",
       "2    3000.0       0.0     923.0                           1  \n",
       "3    2588.0    2250.0    2491.0                           0  \n",
       "4       0.0       0.0       0.0                           1  \n",
       "\n",
       "[5 rows x 25 columns]"
      ]
     },
     "execution_count": 5,
     "metadata": {},
     "output_type": "execute_result"
    }
   ],
   "source": [
    "train_df.head()"
   ]
  },
  {
   "cell_type": "code",
   "execution_count": 6,
   "id": "d843153e",
   "metadata": {},
   "outputs": [],
   "source": [
    "#fill nas with 0 for now\n",
    "#train_df.fillna(value=0,axis=0,inplace=True)"
   ]
  },
  {
   "cell_type": "markdown",
   "id": "5a920d1a",
   "metadata": {},
   "source": [
    "# EDA"
   ]
  },
  {
   "cell_type": "code",
   "execution_count": 7,
   "id": "824d50eb",
   "metadata": {
    "scrolled": false
   },
   "outputs": [
    {
     "name": "stdout",
     "output_type": "stream",
     "text": [
      "<class 'pandas.core.frame.DataFrame'>\n",
      "RangeIndex: 20000 entries, 0 to 19999\n",
      "Data columns (total 25 columns):\n",
      " #   Column                      Non-Null Count  Dtype  \n",
      "---  ------                      --------------  -----  \n",
      " 0   cust_id                     20000 non-null  int64  \n",
      " 1   LIMIT_BAL                   19798 non-null  float64\n",
      " 2   SEX                         19839 non-null  float64\n",
      " 3   EDUCATION                   19801 non-null  float64\n",
      " 4   MARRIAGE                    19830 non-null  float64\n",
      " 5   AGE                         19786 non-null  float64\n",
      " 6   PAY_0                       19805 non-null  float64\n",
      " 7   PAY_2                       19781 non-null  float64\n",
      " 8   PAY_3                       19783 non-null  float64\n",
      " 9   PAY_4                       19801 non-null  float64\n",
      " 10  PAY_5                       19815 non-null  float64\n",
      " 11  PAY_6                       19797 non-null  float64\n",
      " 12  BILL_AMT1                   19815 non-null  float64\n",
      " 13  BILL_AMT2                   19791 non-null  float64\n",
      " 14  BILL_AMT3                   19825 non-null  float64\n",
      " 15  BILL_AMT4                   19835 non-null  float64\n",
      " 16  BILL_AMT5                   19819 non-null  float64\n",
      " 17  BILL_AMT6                   19803 non-null  float64\n",
      " 18  PAY_AMT1                    19796 non-null  float64\n",
      " 19  PAY_AMT2                    19816 non-null  float64\n",
      " 20  PAY_AMT3                    19788 non-null  float64\n",
      " 21  PAY_AMT4                    19803 non-null  float64\n",
      " 22  PAY_AMT5                    19821 non-null  float64\n",
      " 23  PAY_AMT6                    19804 non-null  float64\n",
      " 24  default.payment.next.month  20000 non-null  int64  \n",
      "dtypes: float64(23), int64(2)\n",
      "memory usage: 3.8 MB\n"
     ]
    }
   ],
   "source": [
    "train_df.info()"
   ]
  },
  {
   "cell_type": "code",
   "execution_count": 8,
   "id": "32031215",
   "metadata": {
    "scrolled": true
   },
   "outputs": [
    {
     "data": {
      "text/plain": [
       "<AxesSubplot:>"
      ]
     },
     "execution_count": 8,
     "metadata": {},
     "output_type": "execute_result"
    },
    {
     "data": {
      "image/png": "[encoded data removed]",
      "text/plain": [
       "<Figure size 1800x720 with 3 Axes>"
      ]
     },
     "metadata": {
      "needs_background": "light"
     },
     "output_type": "display_data"
    }
   ],
   "source": [
    "#visualize missing values\n",
    "msno.bar(train_df)"
   ]
  },
  {
   "cell_type": "markdown",
   "id": "61b49957",
   "metadata": {},
   "source": [
    "*Relatively few NAs*"
   ]
  },
  {
   "cell_type": "markdown",
   "id": "a0c491a1",
   "metadata": {},
   "source": [
    "## Missing Value Imputation"
   ]
  },
  {
   "cell_type": "code",
   "execution_count": 9,
   "id": "82edbcbf",
   "metadata": {},
   "outputs": [
    {
     "data": {
      "text/plain": [
       "cust_id                         int64\n",
       "LIMIT_BAL                     float64\n",
       "SEX                           float64\n",
       "EDUCATION                     float64\n",
       "MARRIAGE                      float64\n",
       "AGE                           float64\n",
       "PAY_0                         float64\n",
       "PAY_2                         float64\n",
       "PAY_3                         float64\n",
       "PAY_4                         float64\n",
       "PAY_5                         float64\n",
       "PAY_6                         float64\n",
       "BILL_AMT1                     float64\n",
       "BILL_AMT2                     float64\n",
       "BILL_AMT3                     float64\n",
       "BILL_AMT4                     float64\n",
       "BILL_AMT5                     float64\n",
       "BILL_AMT6                     float64\n",
       "PAY_AMT1                      float64\n",
       "PAY_AMT2                      float64\n",
       "PAY_AMT3                      float64\n",
       "PAY_AMT4                      float64\n",
       "PAY_AMT5                      float64\n",
       "PAY_AMT6                      float64\n",
       "default.payment.next.month      int64\n",
       "dtype: object"
      ]
     },
     "execution_count": 9,
     "metadata": {},
     "output_type": "execute_result"
    }
   ],
   "source": [
    "train_df.dtypes"
   ]
  },
  {
   "cell_type": "code",
   "execution_count": 10,
   "id": "bf907548",
   "metadata": {},
   "outputs": [],
   "source": [
    "#list comprehension to put column labels of categorical columns in a list\n",
    "#cat_cols = [col for col in train_df.columns if train_df[col].dtype == 'object']\n",
    "\n",
    "#numeric_cols = [col for col in train_df.columns if train_df[col].dtype != 'object']"
   ]
  },
  {
   "cell_type": "code",
   "execution_count": 11,
   "id": "381f21c0",
   "metadata": {},
   "outputs": [],
   "source": [
    "#seperate categorical and numerical columns\n",
    "#cat_cols = train_df.iloc[:,2:6].columns\n",
    "\n",
    "#numeric_cols = [col for col in train_df.columns if col not in cat_cols]"
   ]
  },
  {
   "cell_type": "code",
   "execution_count": 12,
   "id": "bafe1ec9",
   "metadata": {},
   "outputs": [],
   "source": [
    "#list comprehension to put column labels of columns with null values in a list\n",
    "cols_with_missings = [col for col in train_df.columns if train_df[col].isnull().sum() > 0]"
   ]
  },
  {
   "cell_type": "code",
   "execution_count": 13,
   "id": "4cf79b15",
   "metadata": {
    "scrolled": false
   },
   "outputs": [],
   "source": [
    "#create function\n",
    "imp_mean = SimpleImputer(missing_values=np.nan, strategy='mean')\n",
    "imp_freq = SimpleImputer(missing_values=np.nan, strategy='most_frequent')\n",
    "for col in train_df[cols_with_missings].columns:\n",
    "    if col in ['SEX','EDUCATION','MARRIAGE']:\n",
    "        imp_freq=imp_freq.fit(train_df[[col]])\n",
    "        train_df[col] = imp_freq.transform(train_df[[col]])\n",
    "    else:\n",
    "        imp_mean=imp_mean.fit(train_df[[col]])\n",
    "        train_df[col] = imp_mean.transform(train_df[[col]])"
   ]
  },
  {
   "cell_type": "code",
   "execution_count": 14,
   "id": "359385d2",
   "metadata": {},
   "outputs": [
    {
     "name": "stdout",
     "output_type": "stream",
     "text": [
      "<class 'pandas.core.frame.DataFrame'>\n",
      "RangeIndex: 20000 entries, 0 to 19999\n",
      "Data columns (total 25 columns):\n",
      " #   Column                      Non-Null Count  Dtype  \n",
      "---  ------                      --------------  -----  \n",
      " 0   cust_id                     20000 non-null  int64  \n",
      " 1   LIMIT_BAL                   20000 non-null  float64\n",
      " 2   SEX                         20000 non-null  float64\n",
      " 3   EDUCATION                   20000 non-null  float64\n",
      " 4   MARRIAGE                    20000 non-null  float64\n",
      " 5   AGE                         20000 non-null  float64\n",
      " 6   PAY_0                       20000 non-null  float64\n",
      " 7   PAY_2                       20000 non-null  float64\n",
      " 8   PAY_3                       20000 non-null  float64\n",
      " 9   PAY_4                       20000 non-null  float64\n",
      " 10  PAY_5                       20000 non-null  float64\n",
      " 11  PAY_6                       20000 non-null  float64\n",
      " 12  BILL_AMT1                   20000 non-null  float64\n",
      " 13  BILL_AMT2                   20000 non-null  float64\n",
      " 14  BILL_AMT3                   20000 non-null  float64\n",
      " 15  BILL_AMT4                   20000 non-null  float64\n",
      " 16  BILL_AMT5                   20000 non-null  float64\n",
      " 17  BILL_AMT6                   20000 non-null  float64\n",
      " 18  PAY_AMT1                    20000 non-null  float64\n",
      " 19  PAY_AMT2                    20000 non-null  float64\n",
      " 20  PAY_AMT3                    20000 non-null  float64\n",
      " 21  PAY_AMT4                    20000 non-null  float64\n",
      " 22  PAY_AMT5                    20000 non-null  float64\n",
      " 23  PAY_AMT6                    20000 non-null  float64\n",
      " 24  default.payment.next.month  20000 non-null  int64  \n",
      "dtypes: float64(23), int64(2)\n",
      "memory usage: 3.8 MB\n"
     ]
    }
   ],
   "source": [
    "train_df.info()"
   ]
  },
  {
   "cell_type": "code",
   "execution_count": 15,
   "id": "f59cb7bc",
   "metadata": {
    "scrolled": false
   },
   "outputs": [
    {
     "data": {
      "image/png": "[encoded data removed]",
      "text/plain": [
       "<Figure size 720x864 with 2 Axes>"
      ]
     },
     "metadata": {
      "needs_background": "light"
     },
     "output_type": "display_data"
    }
   ],
   "source": [
    "#check for multicollinearity\n",
    "#pearson correlation matrix to explore feature correlation\n",
    "\n",
    "plt.figure(figsize=(10,12))\n",
    "cor = train_df.corr()\n",
    "sns.heatmap(cor, annot=True, cmap=plt.cm.CMRmap_r)\n",
    "plt.show()"
   ]
  },
  {
   "cell_type": "markdown",
   "id": "fdaf95b6",
   "metadata": {},
   "source": [
    "*Some collinearity is present*"
   ]
  },
  {
   "cell_type": "code",
   "execution_count": 16,
   "id": "454c5e7d",
   "metadata": {},
   "outputs": [],
   "source": [
    "correlated_features = correlation(train_df,0.7)"
   ]
  },
  {
   "cell_type": "code",
   "execution_count": 17,
   "id": "7b44d888",
   "metadata": {
    "scrolled": true
   },
   "outputs": [],
   "source": [
    "multicollinearity = list(correlated_features)"
   ]
  },
  {
   "cell_type": "code",
   "execution_count": 18,
   "id": "e06a4e5c",
   "metadata": {},
   "outputs": [
    {
     "name": "stdout",
     "output_type": "stream",
     "text": [
      "SEX - p-vlue = 0.0002311441313752747 - selected : 1\n",
      "EDUCATION - p-vlue = 3.5045004972416e-208 - selected : 1\n",
      "MARRIAGE - p-vlue = 5.177379836426521e-56 - selected : 1\n",
      "AGE - p-vlue = 2.9365222148469818e-96 - selected : 1\n",
      "PAY_0 - p-vlue = 8e-323 - selected : 1\n",
      "PAY_2 - p-vlue = 0.0 - selected : 1\n",
      "PAY_3 - p-vlue = 0.0 - selected : 1\n",
      "PAY_4 - p-vlue = 6.51306e-318 - selected : 1\n",
      "PAY_5 - p-vlue = 3.826046445420621e-277 - selected : 1\n",
      "PAY_6 - p-vlue = 6.1770442820646965e-242 - selected : 1\n",
      "BILL_AMT1 - p-vlue = 0.0 - selected : 1\n",
      "BILL_AMT2 - p-vlue = 0.0 - selected : 1\n",
      "BILL_AMT3 - p-vlue = 0.0 - selected : 1\n",
      "BILL_AMT4 - p-vlue = 0.0 - selected : 1\n",
      "BILL_AMT5 - p-vlue = 0.0 - selected : 1\n",
      "BILL_AMT6 - p-vlue = 0.0 - selected : 1\n",
      "PAY_AMT1 - p-vlue = 2.343272433870715e-180 - selected : 1\n",
      "PAY_AMT2 - p-vlue = 8.542693574221572e-145 - selected : 1\n",
      "PAY_AMT3 - p-vlue = 2.7065806916878046e-209 - selected : 1\n",
      "PAY_AMT4 - p-vlue = 2.174302260651989e-176 - selected : 1\n",
      "PAY_AMT5 - p-vlue = 2.3857572760006975e-206 - selected : 1\n",
      "PAY_AMT6 - p-vlue = 1.7910246987983705e-214 - selected : 1\n",
      "default.payment.next.month - p-vlue = 1.9401679439168946e-94 - selected : 1\n"
     ]
    }
   ],
   "source": [
    "#sourced from a previous project: https://github.com/dimitrik1223/DSC-Donations-Predictions/blob/main/PDA_group_FINAL.ipynb\n",
    "\n",
    "\n",
    "selectedFeatures = []\n",
    "target = \"LIMIT_BAL\"\n",
    "\n",
    "for column in train_df.columns:\n",
    "    if column not in (\"cust_id\",\"LIMIT_BAL\"):\n",
    "        (pearson,pvalue) = pearsonr(train_df[column],train_df[target])\n",
    "        print(f\"{column} - p-vlue = {pvalue} - selected : {1 if pvalue < 0.001 else 0}\")\n",
    "        if pvalue < 0.001:\n",
    "            selectedFeatures.append(column)"
   ]
  },
  {
   "cell_type": "code",
   "execution_count": 19,
   "id": "12273fa2",
   "metadata": {
    "scrolled": false
   },
   "outputs": [
    {
     "name": "stderr",
     "output_type": "stream",
     "text": [
      "C:\\Users\\DKESTE~1\\AppData\\Local\\Temp/ipykernel_16412/711861952.py:4: SettingWithCopyWarning: \n",
      "A value is trying to be set on a copy of a slice from a DataFrame.\n",
      "Try using .loc[row_indexer,col_indexer] = value instead\n",
      "\n",
      "See the caveats in the documentation: https://pandas.pydata.org/pandas-docs/stable/user_guide/indexing.html#returning-a-view-versus-a-copy\n",
      "  X['cust_id'] = train_df[\"cust_id\"]\n"
     ]
    }
   ],
   "source": [
    "#subset for only statistically significant features\n",
    "X = train_df[selectedFeatures]\n",
    "#add id\n",
    "X['cust_id'] = train_df[\"cust_id\"]\n",
    "\n",
    "#create response vector \n",
    "y = train_df[['LIMIT_BAL']]"
   ]
  },
  {
   "cell_type": "code",
   "execution_count": 20,
   "id": "a2839208",
   "metadata": {
    "scrolled": true
   },
   "outputs": [
    {
     "name": "stderr",
     "output_type": "stream",
     "text": [
      "C:\\tools\\Anaconda3\\envs\\py\\lib\\site-packages\\pandas\\core\\frame.py:4308: SettingWithCopyWarning: \n",
      "A value is trying to be set on a copy of a slice from a DataFrame\n",
      "\n",
      "See the caveats in the documentation: https://pandas.pydata.org/pandas-docs/stable/user_guide/indexing.html#returning-a-view-versus-a-copy\n",
      "  return super().drop(\n"
     ]
    }
   ],
   "source": [
    "#drop correlated features\n",
    "X.drop(columns=multicollinearity,axis=1,inplace=True)"
   ]
  },
  {
   "cell_type": "code",
   "execution_count": 21,
   "id": "da5b15a5",
   "metadata": {},
   "outputs": [],
   "source": [
    "X = sm.add_constant(X)\n",
    "y = np.squeeze(np.asarray(y))"
   ]
  },
  {
   "cell_type": "code",
   "execution_count": 22,
   "id": "31ca602d",
   "metadata": {
    "scrolled": false
   },
   "outputs": [
    {
     "data": {
      "text/html": [
       "<table class=\"simpletable\">\n",
       "<caption>OLS Regression Results</caption>\n",
       "<tr>\n",
       "  <th>Dep. Variable:</th>            <td>y</td>        <th>  R-squared:         </th>  <td>   0.337</td>  \n",
       "</tr>\n",
       "<tr>\n",
       "  <th>Model:</th>                   <td>OLS</td>       <th>  Adj. R-squared:    </th>  <td>   0.336</td>  \n",
       "</tr>\n",
       "<tr>\n",
       "  <th>Method:</th>             <td>Least Squares</td>  <th>  F-statistic:       </th>  <td>   676.2</td>  \n",
       "</tr>\n",
       "<tr>\n",
       "  <th>Date:</th>             <td>Tue, 29 Mar 2022</td> <th>  Prob (F-statistic):</th>   <td>  0.00</td>   \n",
       "</tr>\n",
       "<tr>\n",
       "  <th>Time:</th>                 <td>10:59:34</td>     <th>  Log-Likelihood:    </th> <td>-2.5960e+05</td>\n",
       "</tr>\n",
       "<tr>\n",
       "  <th>No. Observations:</th>      <td> 20000</td>      <th>  AIC:               </th>  <td>5.192e+05</td> \n",
       "</tr>\n",
       "<tr>\n",
       "  <th>Df Residuals:</th>          <td> 19984</td>      <th>  BIC:               </th>  <td>5.194e+05</td> \n",
       "</tr>\n",
       "<tr>\n",
       "  <th>Df Model:</th>              <td>    15</td>      <th>                     </th>      <td> </td>     \n",
       "</tr>\n",
       "<tr>\n",
       "  <th>Covariance Type:</th>      <td>nonrobust</td>    <th>                     </th>      <td> </td>     \n",
       "</tr>\n",
       "</table>\n",
       "<table class=\"simpletable\">\n",
       "<tr>\n",
       "               <td></td>                 <th>coef</th>     <th>std err</th>      <th>t</th>      <th>P>|t|</th>  <th>[0.025</th>    <th>0.975]</th>  \n",
       "</tr>\n",
       "<tr>\n",
       "  <th>const</th>                      <td> 1.472e+05</td> <td> 6002.076</td> <td>   24.525</td> <td> 0.000</td> <td> 1.35e+05</td> <td> 1.59e+05</td>\n",
       "</tr>\n",
       "<tr>\n",
       "  <th>SEX</th>                        <td> 6673.1641</td> <td> 1535.896</td> <td>    4.345</td> <td> 0.000</td> <td> 3662.681</td> <td> 9683.648</td>\n",
       "</tr>\n",
       "<tr>\n",
       "  <th>EDUCATION</th>                  <td>-3.206e+04</td> <td>  974.478</td> <td>  -32.895</td> <td> 0.000</td> <td> -3.4e+04</td> <td>-3.01e+04</td>\n",
       "</tr>\n",
       "<tr>\n",
       "  <th>MARRIAGE</th>                   <td>-1.849e+04</td> <td> 1573.364</td> <td>  -11.754</td> <td> 0.000</td> <td>-2.16e+04</td> <td>-1.54e+04</td>\n",
       "</tr>\n",
       "<tr>\n",
       "  <th>AGE</th>                        <td> 1510.1148</td> <td>   90.499</td> <td>   16.687</td> <td> 0.000</td> <td> 1332.729</td> <td> 1687.500</td>\n",
       "</tr>\n",
       "<tr>\n",
       "  <th>PAY_0</th>                      <td>-1.209e+04</td> <td>  922.873</td> <td>  -13.096</td> <td> 0.000</td> <td>-1.39e+04</td> <td>-1.03e+04</td>\n",
       "</tr>\n",
       "<tr>\n",
       "  <th>PAY_2</th>                      <td>-2.475e+04</td> <td>  854.676</td> <td>  -28.960</td> <td> 0.000</td> <td>-2.64e+04</td> <td>-2.31e+04</td>\n",
       "</tr>\n",
       "<tr>\n",
       "  <th>BILL_AMT1</th>                  <td>    0.5070</td> <td>    0.011</td> <td>   46.143</td> <td> 0.000</td> <td>    0.485</td> <td>    0.529</td>\n",
       "</tr>\n",
       "<tr>\n",
       "  <th>PAY_AMT1</th>                   <td>    0.5183</td> <td>    0.052</td> <td>    9.956</td> <td> 0.000</td> <td>    0.416</td> <td>    0.620</td>\n",
       "</tr>\n",
       "<tr>\n",
       "  <th>PAY_AMT2</th>                   <td>    0.3074</td> <td>    0.036</td> <td>    8.653</td> <td> 0.000</td> <td>    0.238</td> <td>    0.377</td>\n",
       "</tr>\n",
       "<tr>\n",
       "  <th>PAY_AMT3</th>                   <td>    0.5506</td> <td>    0.045</td> <td>   12.174</td> <td> 0.000</td> <td>    0.462</td> <td>    0.639</td>\n",
       "</tr>\n",
       "<tr>\n",
       "  <th>PAY_AMT4</th>                   <td>    0.6116</td> <td>    0.050</td> <td>   12.132</td> <td> 0.000</td> <td>    0.513</td> <td>    0.710</td>\n",
       "</tr>\n",
       "<tr>\n",
       "  <th>PAY_AMT5</th>                   <td>    0.6830</td> <td>    0.051</td> <td>   13.295</td> <td> 0.000</td> <td>    0.582</td> <td>    0.784</td>\n",
       "</tr>\n",
       "<tr>\n",
       "  <th>PAY_AMT6</th>                   <td>    0.6500</td> <td>    0.043</td> <td>   15.097</td> <td> 0.000</td> <td>    0.566</td> <td>    0.734</td>\n",
       "</tr>\n",
       "<tr>\n",
       "  <th>default.payment.next.month</th> <td>-6195.7695</td> <td> 1900.947</td> <td>   -3.259</td> <td> 0.001</td> <td>-9921.783</td> <td>-2469.756</td>\n",
       "</tr>\n",
       "<tr>\n",
       "  <th>cust_id</th>                    <td>   -0.1117</td> <td>    0.086</td> <td>   -1.306</td> <td> 0.192</td> <td>   -0.279</td> <td>    0.056</td>\n",
       "</tr>\n",
       "</table>\n",
       "<table class=\"simpletable\">\n",
       "<tr>\n",
       "  <th>Omnibus:</th>       <td>3104.097</td> <th>  Durbin-Watson:     </th> <td>   1.993</td>\n",
       "</tr>\n",
       "<tr>\n",
       "  <th>Prob(Omnibus):</th>  <td> 0.000</td>  <th>  Jarque-Bera (JB):  </th> <td>5256.051</td>\n",
       "</tr>\n",
       "<tr>\n",
       "  <th>Skew:</th>           <td> 1.032</td>  <th>  Prob(JB):          </th> <td>    0.00</td>\n",
       "</tr>\n",
       "<tr>\n",
       "  <th>Kurtosis:</th>       <td> 4.432</td>  <th>  Cond. No.          </th> <td>7.54e+05</td>\n",
       "</tr>\n",
       "</table><br/><br/>Notes:<br/>[1] Standard Errors assume that the covariance matrix of the errors is correctly specified.<br/>[2] The condition number is large, 7.54e+05. This might indicate that there are<br/>strong multicollinearity or other numerical problems."
      ],
      "text/plain": [
       "<class 'statsmodels.iolib.summary.Summary'>\n",
       "\"\"\"\n",
       "                            OLS Regression Results                            \n",
       "==============================================================================\n",
       "Dep. Variable:                      y   R-squared:                       0.337\n",
       "Model:                            OLS   Adj. R-squared:                  0.336\n",
       "Method:                 Least Squares   F-statistic:                     676.2\n",
       "Date:                Tue, 29 Mar 2022   Prob (F-statistic):               0.00\n",
       "Time:                        10:59:34   Log-Likelihood:            -2.5960e+05\n",
       "No. Observations:               20000   AIC:                         5.192e+05\n",
       "Df Residuals:                   19984   BIC:                         5.194e+05\n",
       "Df Model:                          15                                         \n",
       "Covariance Type:            nonrobust                                         \n",
       "==============================================================================================\n",
       "                                 coef    std err          t      P>|t|      [0.025      0.975]\n",
       "----------------------------------------------------------------------------------------------\n",
       "const                       1.472e+05   6002.076     24.525      0.000    1.35e+05    1.59e+05\n",
       "SEX                         6673.1641   1535.896      4.345      0.000    3662.681    9683.648\n",
       "EDUCATION                  -3.206e+04    974.478    -32.895      0.000    -3.4e+04   -3.01e+04\n",
       "MARRIAGE                   -1.849e+04   1573.364    -11.754      0.000   -2.16e+04   -1.54e+04\n",
       "AGE                         1510.1148     90.499     16.687      0.000    1332.729    1687.500\n",
       "PAY_0                      -1.209e+04    922.873    -13.096      0.000   -1.39e+04   -1.03e+04\n",
       "PAY_2                      -2.475e+04    854.676    -28.960      0.000   -2.64e+04   -2.31e+04\n",
       "BILL_AMT1                      0.5070      0.011     46.143      0.000       0.485       0.529\n",
       "PAY_AMT1                       0.5183      0.052      9.956      0.000       0.416       0.620\n",
       "PAY_AMT2                       0.3074      0.036      8.653      0.000       0.238       0.377\n",
       "PAY_AMT3                       0.5506      0.045     12.174      0.000       0.462       0.639\n",
       "PAY_AMT4                       0.6116      0.050     12.132      0.000       0.513       0.710\n",
       "PAY_AMT5                       0.6830      0.051     13.295      0.000       0.582       0.784\n",
       "PAY_AMT6                       0.6500      0.043     15.097      0.000       0.566       0.734\n",
       "default.payment.next.month -6195.7695   1900.947     -3.259      0.001   -9921.783   -2469.756\n",
       "cust_id                       -0.1117      0.086     -1.306      0.192      -0.279       0.056\n",
       "==============================================================================\n",
       "Omnibus:                     3104.097   Durbin-Watson:                   1.993\n",
       "Prob(Omnibus):                  0.000   Jarque-Bera (JB):             5256.051\n",
       "Skew:                           1.032   Prob(JB):                         0.00\n",
       "Kurtosis:                       4.432   Cond. No.                     7.54e+05\n",
       "==============================================================================\n",
       "\n",
       "Notes:\n",
       "[1] Standard Errors assume that the covariance matrix of the errors is correctly specified.\n",
       "[2] The condition number is large, 7.54e+05. This might indicate that there are\n",
       "strong multicollinearity or other numerical problems.\n",
       "\"\"\""
      ]
     },
     "execution_count": 22,
     "metadata": {},
     "output_type": "execute_result"
    }
   ],
   "source": [
    "model = OLS(y,X).fit()\n",
    "\n",
    "model.summary()"
   ]
  },
  {
   "cell_type": "code",
   "execution_count": 23,
   "id": "095c910d",
   "metadata": {},
   "outputs": [
    {
     "data": {
      "text/plain": [
       "220199324852992.28"
      ]
     },
     "execution_count": 23,
     "metadata": {},
     "output_type": "execute_result"
    }
   ],
   "source": [
    "model.ssr"
   ]
  },
  {
   "cell_type": "markdown",
   "id": "17031485",
   "metadata": {},
   "source": [
    "## `Train` / `Test` Split"
   ]
  },
  {
   "cell_type": "code",
   "execution_count": 25,
   "id": "cc04d136",
   "metadata": {},
   "outputs": [],
   "source": [
    "X_train, X_test, y_train, y_test = train_test_split(X,y,test_size=0.3,random_state=123)"
   ]
  },
  {
   "cell_type": "code",
   "execution_count": 26,
   "id": "b191e4f4",
   "metadata": {
    "scrolled": true
   },
   "outputs": [],
   "source": [
    "lr = LinearRegression()\n",
    "\n",
    "lr.fit(X_train,y_train)\n",
    "\n",
    "y_preds = lr.predict(X_test)"
   ]
  },
  {
   "cell_type": "code",
   "execution_count": 27,
   "id": "fc69fbd8",
   "metadata": {},
   "outputs": [
    {
     "name": "stdout",
     "output_type": "stream",
     "text": [
      " residual sum of squares is : 66039942348237.66\n"
     ]
    }
   ],
   "source": [
    "df = pd.DataFrame({'Actual': y_test, 'Predicted':\n",
    "y_preds})\n",
    "  \n",
    "print(' residual sum of squares is : '+ str(np.sum(np.square(df['Predicted'] - df['Actual']))))"
   ]
  },
  {
   "cell_type": "markdown",
   "id": "0b7a8295",
   "metadata": {},
   "source": [
    "## Logistic Regression Benchmark"
   ]
  },
  {
   "cell_type": "code",
   "execution_count": 28,
   "id": "7e112727",
   "metadata": {},
   "outputs": [],
   "source": [
    "#seperate the features from the response variable (default.payment.next.month)\n",
    "X = train_df.iloc[:,:24]\n",
    "y = np.array(train_df['default.payment.next.month'])"
   ]
  },
  {
   "cell_type": "code",
   "execution_count": 29,
   "id": "6f351857",
   "metadata": {},
   "outputs": [],
   "source": [
    "#initiate sklearn's logistic regression\n",
    "log_reg_mod = LogisticRegression() #class_weight = 'balanced'\n",
    "#forward stepwise feature selection\n",
    "for_step_select_log_reg = sfs(log_reg_mod, k_features=8, forward=True, verbose=2, scoring='accuracy')"
   ]
  },
  {
   "cell_type": "code",
   "execution_count": 32,
   "id": "9c2b05b3",
   "metadata": {
    "scrolled": true
   },
   "outputs": [
    {
     "name": "stderr",
     "output_type": "stream",
     "text": [
      "[Parallel(n_jobs=1)]: Using backend SequentialBackend with 1 concurrent workers.\n",
      "[Parallel(n_jobs=1)]: Done   1 out of   1 | elapsed:    0.1s remaining:    0.0s\n",
      "[Parallel(n_jobs=1)]: Done  24 out of  24 | elapsed:    3.0s finished\n",
      "\n",
      "[2022-03-28 16:38:40] Features: 1/8 -- score: 0.8170999999999999[Parallel(n_jobs=1)]: Using backend SequentialBackend with 1 concurrent workers.\n",
      "[Parallel(n_jobs=1)]: Done   1 out of   1 | elapsed:    0.2s remaining:    0.0s\n",
      "[Parallel(n_jobs=1)]: Done  23 out of  23 | elapsed:    3.9s finished\n",
      "\n",
      "[2022-03-28 16:38:44] Features: 2/8 -- score: 0.8160999999999999[Parallel(n_jobs=1)]: Using backend SequentialBackend with 1 concurrent workers.\n",
      "[Parallel(n_jobs=1)]: Done   1 out of   1 | elapsed:    0.0s remaining:    0.0s\n",
      "[Parallel(n_jobs=1)]: Done  22 out of  22 | elapsed:    6.7s finished\n",
      "\n",
      "[2022-03-28 16:38:51] Features: 3/8 -- score: 0.8155000000000001[Parallel(n_jobs=1)]: Using backend SequentialBackend with 1 concurrent workers.\n",
      "[Parallel(n_jobs=1)]: Done   1 out of   1 | elapsed:    0.2s remaining:    0.0s\n",
      "[Parallel(n_jobs=1)]: Done  21 out of  21 | elapsed:    7.0s finished\n",
      "\n",
      "[2022-03-28 16:38:58] Features: 4/8 -- score: 0.8139[Parallel(n_jobs=1)]: Using backend SequentialBackend with 1 concurrent workers.\n",
      "[Parallel(n_jobs=1)]: Done   1 out of   1 | elapsed:    0.2s remaining:    0.0s\n",
      "[Parallel(n_jobs=1)]: Done  20 out of  20 | elapsed:    6.9s finished\n",
      "\n",
      "[2022-03-28 16:39:05] Features: 5/8 -- score: 0.8108000000000001[Parallel(n_jobs=1)]: Using backend SequentialBackend with 1 concurrent workers.\n",
      "[Parallel(n_jobs=1)]: Done   1 out of   1 | elapsed:    0.2s remaining:    0.0s\n",
      "[Parallel(n_jobs=1)]: Done  19 out of  19 | elapsed:    7.3s finished\n",
      "\n",
      "[2022-03-28 16:39:13] Features: 6/8 -- score: 0.8074[Parallel(n_jobs=1)]: Using backend SequentialBackend with 1 concurrent workers.\n",
      "[Parallel(n_jobs=1)]: Done   1 out of   1 | elapsed:    0.2s remaining:    0.0s\n",
      "[Parallel(n_jobs=1)]: Done  18 out of  18 | elapsed:    7.0s finished\n",
      "\n",
      "[2022-03-28 16:39:20] Features: 7/8 -- score: 0.80885[Parallel(n_jobs=1)]: Using backend SequentialBackend with 1 concurrent workers.\n",
      "[Parallel(n_jobs=1)]: Done   1 out of   1 | elapsed:    0.2s remaining:    0.0s\n",
      "[Parallel(n_jobs=1)]: Done  17 out of  17 | elapsed:    6.5s finished\n",
      "\n",
      "[2022-03-28 16:39:26] Features: 8/8 -- score: 0.8088"
     ]
    }
   ],
   "source": [
    "# #fit the forward stepwise selection class to the data\n",
    "# for_step_select_log_reg = for_step_select_log_reg.fit(X, y)"
   ]
  },
  {
   "cell_type": "markdown",
   "id": "20bdf8b7",
   "metadata": {},
   "source": [
    "['EDUCATION', 'MARRIAGE', 'PAY_0', 'PAY_AMT2', 'PAY_AMT3', 'PAY_AMT4', 'PAY_AMT5', 'PAY_AMT6']"
   ]
  },
  {
   "cell_type": "code",
   "execution_count": 103,
   "id": "a99ced31",
   "metadata": {
    "scrolled": false
   },
   "outputs": [
    {
     "name": "stdout",
     "output_type": "stream",
     "text": [
      "['EDUCATION', 'MARRIAGE', 'PAY_0', 'PAY_AMT2', 'PAY_AMT3', 'PAY_AMT4', 'PAY_AMT5', 'PAY_AMT6']\n"
     ]
    }
   ],
   "source": [
    "# best_feats_log_reg = list(for_step_select_log_reg.k_feature_names_)\n",
    "# print(best_feats_log_reg)"
   ]
  },
  {
   "cell_type": "markdown",
   "id": "6deba8e4",
   "metadata": {},
   "source": [
    "* Below attempting to stratify y resulted in an error."
   ]
  },
  {
   "cell_type": "code",
   "execution_count": 30,
   "id": "76a23b7c",
   "metadata": {},
   "outputs": [],
   "source": [
    "#subset X for best features from forward stepwise selection only\n",
    "best_feats_log_reg = ['EDUCATION', 'MARRIAGE', 'PAY_0', 'PAY_AMT2', 'PAY_AMT3', 'PAY_AMT4', 'PAY_AMT5', 'PAY_AMT6']\n",
    "X = X[best_feats_log_reg]"
   ]
  },
  {
   "cell_type": "code",
   "execution_count": 31,
   "id": "6a3ff2ae",
   "metadata": {},
   "outputs": [],
   "source": [
    "#stratified train test split\n",
    "X_train, X_test, y_train, y_test = train_test_split(X,y,test_size=0.3,random_state=123,stratify=y)"
   ]
  },
  {
   "cell_type": "code",
   "execution_count": 32,
   "id": "0eef322b",
   "metadata": {
    "scrolled": true
   },
   "outputs": [
    {
     "data": {
      "text/plain": [
       "0.6076503660783742"
      ]
     },
     "execution_count": 32,
     "metadata": {},
     "output_type": "execute_result"
    }
   ],
   "source": [
    "log_reg_mod.fit(X_train,y_train)\n",
    "\n",
    "y_preds = log_reg_mod.predict(X_test)\n",
    "\n",
    "fpr, tpr, thresholds = metrics.roc_curve(y_test, y_preds, pos_label=1)\n",
    "\n",
    "metrics.auc(fpr, tpr)"
   ]
  },
  {
   "cell_type": "markdown",
   "id": "599b736b",
   "metadata": {},
   "source": [
    "# Decision Tree Classifier"
   ]
  },
  {
   "cell_type": "code",
   "execution_count": 33,
   "id": "ee5a78ff",
   "metadata": {},
   "outputs": [],
   "source": [
    "#seperate the features from the response variable (default.payment.next.month)\n",
    "X = train_df.iloc[:,:24]\n",
    "y = np.array(train_df['default.payment.next.month'])"
   ]
  },
  {
   "cell_type": "code",
   "execution_count": 41,
   "id": "79433052",
   "metadata": {
    "scrolled": false
   },
   "outputs": [
    {
     "name": "stderr",
     "output_type": "stream",
     "text": [
      "[Parallel(n_jobs=1)]: Using backend SequentialBackend with 1 concurrent workers.\n",
      "[Parallel(n_jobs=1)]: Done   1 out of   1 | elapsed:    0.5s remaining:    0.0s\n",
      "[Parallel(n_jobs=1)]: Done  24 out of  24 | elapsed:    3.3s finished\n",
      "\n",
      "[2022-03-28 16:40:35] Features: 1/20 -- score: 0.8167499999999999[Parallel(n_jobs=1)]: Using backend SequentialBackend with 1 concurrent workers.\n",
      "[Parallel(n_jobs=1)]: Done   1 out of   1 | elapsed:    0.2s remaining:    0.0s\n",
      "[Parallel(n_jobs=1)]: Done  23 out of  23 | elapsed:    2.7s finished\n",
      "\n",
      "[2022-03-28 16:40:37] Features: 2/20 -- score: 0.81745[Parallel(n_jobs=1)]: Using backend SequentialBackend with 1 concurrent workers.\n",
      "[Parallel(n_jobs=1)]: Done   1 out of   1 | elapsed:    0.2s remaining:    0.0s\n",
      "[Parallel(n_jobs=1)]: Done  22 out of  22 | elapsed:    2.9s finished\n",
      "\n",
      "[2022-03-28 16:40:40] Features: 3/20 -- score: 0.81755[Parallel(n_jobs=1)]: Using backend SequentialBackend with 1 concurrent workers.\n",
      "[Parallel(n_jobs=1)]: Done   1 out of   1 | elapsed:    0.2s remaining:    0.0s\n",
      "[Parallel(n_jobs=1)]: Done  21 out of  21 | elapsed:    3.1s finished\n",
      "\n",
      "[2022-03-28 16:40:44] Features: 4/20 -- score: 0.81835[Parallel(n_jobs=1)]: Using backend SequentialBackend with 1 concurrent workers.\n",
      "[Parallel(n_jobs=1)]: Done   1 out of   1 | elapsed:    0.2s remaining:    0.0s\n",
      "[Parallel(n_jobs=1)]: Done  20 out of  20 | elapsed:    3.3s finished\n",
      "\n",
      "[2022-03-28 16:40:47] Features: 5/20 -- score: 0.8163[Parallel(n_jobs=1)]: Using backend SequentialBackend with 1 concurrent workers.\n",
      "[Parallel(n_jobs=1)]: Done   1 out of   1 | elapsed:    0.2s remaining:    0.0s\n",
      "[Parallel(n_jobs=1)]: Done  19 out of  19 | elapsed:    3.8s finished\n",
      "\n",
      "[2022-03-28 16:40:51] Features: 6/20 -- score: 0.81365[Parallel(n_jobs=1)]: Using backend SequentialBackend with 1 concurrent workers.\n",
      "[Parallel(n_jobs=1)]: Done   1 out of   1 | elapsed:    0.2s remaining:    0.0s\n",
      "[Parallel(n_jobs=1)]: Done  18 out of  18 | elapsed:    4.1s finished\n",
      "\n",
      "[2022-03-28 16:40:55] Features: 7/20 -- score: 0.8102[Parallel(n_jobs=1)]: Using backend SequentialBackend with 1 concurrent workers.\n",
      "[Parallel(n_jobs=1)]: Done   1 out of   1 | elapsed:    0.3s remaining:    0.0s\n",
      "[Parallel(n_jobs=1)]: Done  17 out of  17 | elapsed:    4.4s finished\n",
      "\n",
      "[2022-03-28 16:41:00] Features: 8/20 -- score: 0.80205[Parallel(n_jobs=1)]: Using backend SequentialBackend with 1 concurrent workers.\n",
      "[Parallel(n_jobs=1)]: Done   1 out of   1 | elapsed:    0.3s remaining:    0.0s\n",
      "[Parallel(n_jobs=1)]: Done  16 out of  16 | elapsed:    4.6s finished\n",
      "\n",
      "[2022-03-28 16:41:04] Features: 9/20 -- score: 0.7960999999999999[Parallel(n_jobs=1)]: Using backend SequentialBackend with 1 concurrent workers.\n",
      "[Parallel(n_jobs=1)]: Done   1 out of   1 | elapsed:    0.3s remaining:    0.0s\n",
      "[Parallel(n_jobs=1)]: Done  15 out of  15 | elapsed:    4.8s finished\n",
      "\n",
      "[2022-03-28 16:41:09] Features: 10/20 -- score: 0.75875[Parallel(n_jobs=1)]: Using backend SequentialBackend with 1 concurrent workers.\n",
      "[Parallel(n_jobs=1)]: Done   1 out of   1 | elapsed:    0.4s remaining:    0.0s\n",
      "[Parallel(n_jobs=1)]: Done  14 out of  14 | elapsed:    5.7s finished\n",
      "\n",
      "[2022-03-28 16:41:15] Features: 11/20 -- score: 0.7290500000000001[Parallel(n_jobs=1)]: Using backend SequentialBackend with 1 concurrent workers.\n",
      "[Parallel(n_jobs=1)]: Done   1 out of   1 | elapsed:    0.5s remaining:    0.0s\n",
      "[Parallel(n_jobs=1)]: Done  13 out of  13 | elapsed:    6.9s finished\n",
      "\n",
      "[2022-03-28 16:41:22] Features: 12/20 -- score: 0.72675[Parallel(n_jobs=1)]: Using backend SequentialBackend with 1 concurrent workers.\n",
      "[Parallel(n_jobs=1)]: Done   1 out of   1 | elapsed:    0.6s remaining:    0.0s\n",
      "[Parallel(n_jobs=1)]: Done  12 out of  12 | elapsed:    7.5s finished\n",
      "\n",
      "[2022-03-28 16:41:30] Features: 13/20 -- score: 0.7259499999999999[Parallel(n_jobs=1)]: Using backend SequentialBackend with 1 concurrent workers.\n",
      "[Parallel(n_jobs=1)]: Done   1 out of   1 | elapsed:    0.7s remaining:    0.0s\n",
      "[Parallel(n_jobs=1)]: Done  11 out of  11 | elapsed:    8.9s finished\n",
      "\n",
      "[2022-03-28 16:41:39] Features: 14/20 -- score: 0.724[Parallel(n_jobs=1)]: Using backend SequentialBackend with 1 concurrent workers.\n",
      "[Parallel(n_jobs=1)]: Done   1 out of   1 | elapsed:    1.0s remaining:    0.0s\n",
      "[Parallel(n_jobs=1)]: Done  10 out of  10 | elapsed:    9.3s finished\n",
      "\n",
      "[2022-03-28 16:41:48] Features: 15/20 -- score: 0.7274[Parallel(n_jobs=1)]: Using backend SequentialBackend with 1 concurrent workers.\n",
      "[Parallel(n_jobs=1)]: Done   1 out of   1 | elapsed:    1.0s remaining:    0.0s\n",
      "[Parallel(n_jobs=1)]: Done   9 out of   9 | elapsed:   10.0s finished\n",
      "\n",
      "[2022-03-28 16:41:58] Features: 16/20 -- score: 0.7239500000000001[Parallel(n_jobs=1)]: Using backend SequentialBackend with 1 concurrent workers.\n",
      "[Parallel(n_jobs=1)]: Done   1 out of   1 | elapsed:    1.1s remaining:    0.0s\n",
      "[Parallel(n_jobs=1)]: Done   8 out of   8 | elapsed:    8.9s finished\n",
      "\n",
      "[2022-03-28 16:42:07] Features: 17/20 -- score: 0.7265499999999999[Parallel(n_jobs=1)]: Using backend SequentialBackend with 1 concurrent workers.\n",
      "[Parallel(n_jobs=1)]: Done   1 out of   1 | elapsed:    1.2s remaining:    0.0s\n",
      "[Parallel(n_jobs=1)]: Done   7 out of   7 | elapsed:    9.0s finished\n",
      "\n",
      "[2022-03-28 16:42:16] Features: 18/20 -- score: 0.7241500000000001[Parallel(n_jobs=1)]: Using backend SequentialBackend with 1 concurrent workers.\n",
      "[Parallel(n_jobs=1)]: Done   1 out of   1 | elapsed:    1.3s remaining:    0.0s\n",
      "[Parallel(n_jobs=1)]: Done   6 out of   6 | elapsed:    8.5s finished\n",
      "\n",
      "[2022-03-28 16:42:25] Features: 19/20 -- score: 0.72345[Parallel(n_jobs=1)]: Using backend SequentialBackend with 1 concurrent workers.\n",
      "[Parallel(n_jobs=1)]: Done   1 out of   1 | elapsed:    1.4s remaining:    0.0s\n",
      "[Parallel(n_jobs=1)]: Done   5 out of   5 | elapsed:    7.9s finished\n",
      "\n",
      "[2022-03-28 16:42:33] Features: 20/20 -- score: 0.72585"
     ]
    }
   ],
   "source": [
    "# clf = DecisionTreeClassifier(random_state=0)\n",
    "\n",
    "# for_step_select_clf = sfs(clf, k_features=20, forward=True, verbose=2, scoring='accuracy')\n",
    "# #fit the forward stepwise selection class to the data\n",
    "# for_step_select_clf = for_step_select_clf.fit(X, y)"
   ]
  },
  {
   "cell_type": "code",
   "execution_count": 42,
   "id": "2d0f6f9a",
   "metadata": {},
   "outputs": [
    {
     "name": "stdout",
     "output_type": "stream",
     "text": [
      "['cust_id', 'SEX', 'EDUCATION', 'MARRIAGE', 'AGE', 'PAY_0', 'PAY_2', 'PAY_3', 'PAY_4', 'PAY_5', 'PAY_6', 'BILL_AMT2', 'BILL_AMT3', 'BILL_AMT4', 'BILL_AMT5', 'BILL_AMT6', 'PAY_AMT1', 'PAY_AMT2', 'PAY_AMT4', 'PAY_AMT5']\n"
     ]
    }
   ],
   "source": [
    "# best_feats_clf = list(for_step_select_clf.k_feature_names_)\n",
    "# print(best_feats_clf)"
   ]
  },
  {
   "cell_type": "code",
   "execution_count": 34,
   "id": "ce257d2e",
   "metadata": {},
   "outputs": [],
   "source": [
    "#subset X for best features from forward stepwise selection only\n",
    "best_feats_clf = ['cust_id', 'SEX', 'EDUCATION', 'MARRIAGE', 'AGE', 'PAY_0', 'PAY_2', 'PAY_3', 'PAY_4', 'PAY_5', 'PAY_6', 'BILL_AMT2', 'BILL_AMT3', 'BILL_AMT4', 'BILL_AMT5', 'BILL_AMT6', 'PAY_AMT1', 'PAY_AMT2', 'PAY_AMT4', 'PAY_AMT5']\n",
    "X = X[best_feats_clf]"
   ]
  },
  {
   "cell_type": "code",
   "execution_count": 35,
   "id": "6c400626",
   "metadata": {},
   "outputs": [],
   "source": [
    "#stratified train test split\n",
    "X_train, X_test, y_train, y_test = train_test_split(X,y,test_size=0.3,random_state=123,stratify=y)"
   ]
  },
  {
   "cell_type": "code",
   "execution_count": 98,
   "id": "d231e741",
   "metadata": {},
   "outputs": [],
   "source": [
    "cv_clf = cross_val_score(clf, X_train, y_train, cv=10)"
   ]
  },
  {
   "cell_type": "code",
   "execution_count": 99,
   "id": "fc45797e",
   "metadata": {
    "scrolled": true
   },
   "outputs": [
    {
     "data": {
      "text/plain": [
       "array([0.72714286, 0.72214286, 0.71714286, 0.715     , 0.72142857,\n",
       "       0.74142857, 0.71785714, 0.72142857, 0.71142857, 0.71785714])"
      ]
     },
     "execution_count": 99,
     "metadata": {},
     "output_type": "execute_result"
    }
   ],
   "source": [
    "cv_clf"
   ]
  },
  {
   "cell_type": "code",
   "execution_count": 108,
   "id": "56add8a7",
   "metadata": {
    "scrolled": false
   },
   "outputs": [
    {
     "name": "stdout",
     "output_type": "stream",
     "text": [
      "Fitting 5 folds for each of 128 candidates, totalling 640 fits\n"
     ]
    },
    {
     "name": "stderr",
     "output_type": "stream",
     "text": [
      "C:\\tools\\Anaconda3\\envs\\py\\lib\\site-packages\\sklearn\\model_selection\\_validation.py:372: FitFailedWarning: \n",
      "160 fits failed out of a total of 640.\n",
      "The score on these train-test partitions for these parameters will be set to nan.\n",
      "If these failures are not expected, you can try to debug them by setting error_score='raise'.\n",
      "\n",
      "Below are more details about the failures:\n",
      "--------------------------------------------------------------------------------\n",
      "160 fits failed with the following error:\n",
      "Traceback (most recent call last):\n",
      "  File \"C:\\tools\\Anaconda3\\envs\\py\\lib\\site-packages\\sklearn\\model_selection\\_validation.py\", line 681, in _fit_and_score\n",
      "    estimator.fit(X_train, y_train, **fit_params)\n",
      "  File \"C:\\tools\\Anaconda3\\envs\\py\\lib\\site-packages\\sklearn\\tree\\_classes.py\", line 937, in fit\n",
      "    super().fit(\n",
      "  File \"C:\\tools\\Anaconda3\\envs\\py\\lib\\site-packages\\sklearn\\tree\\_classes.py\", line 250, in fit\n",
      "    raise ValueError(\n",
      "ValueError: min_samples_split must be an integer greater than 1 or a float in (0.0, 1.0]; got the integer 1\n",
      "\n",
      "  warnings.warn(some_fits_failed_message, FitFailedWarning)\n",
      "C:\\tools\\Anaconda3\\envs\\py\\lib\\site-packages\\sklearn\\model_selection\\_search.py:969: UserWarning: One or more of the test scores are non-finite: [       nan 0.81664286 0.81664286 0.81664286        nan 0.81664286\n",
      " 0.81664286 0.81664286        nan 0.81664286 0.81664286 0.81664286\n",
      "        nan 0.81664286 0.81664286 0.81664286        nan 0.8165\n",
      " 0.8165     0.8165            nan 0.8165     0.8165     0.8165\n",
      "        nan 0.8165     0.8165     0.8165            nan 0.8165\n",
      " 0.8165     0.8165            nan 0.81392857 0.81392857 0.81392857\n",
      "        nan 0.81392857 0.81392857 0.81392857        nan 0.81392857\n",
      " 0.81392857 0.81392857        nan 0.81392857 0.81392857 0.81392857\n",
      "        nan 0.81271429 0.81271429 0.81271429        nan 0.81278571\n",
      " 0.81278571 0.81278571        nan 0.81278571 0.81278571 0.81278571\n",
      "        nan 0.81278571 0.81278571 0.81278571        nan 0.79942857\n",
      " 0.79942857 0.79942857        nan 0.79942857 0.79942857 0.79942857\n",
      "        nan 0.79942857 0.79942857 0.79942857        nan 0.79942857\n",
      " 0.79942857 0.79942857        nan 0.8165     0.8165     0.8165\n",
      "        nan 0.8165     0.8165     0.8165            nan 0.8165\n",
      " 0.8165     0.8165            nan 0.8165     0.8165     0.8165\n",
      "        nan 0.81485714 0.81485714 0.81485714        nan 0.81485714\n",
      " 0.81485714 0.81485714        nan 0.81485714 0.81485714 0.81485714\n",
      "        nan 0.81485714 0.81485714 0.81485714        nan 0.81278571\n",
      " 0.81278571 0.81278571        nan 0.81285714 0.81285714 0.81285714\n",
      "        nan 0.81285714 0.81285714 0.81285714        nan 0.81271429\n",
      " 0.81271429 0.81271429]\n",
      "  warnings.warn(\n"
     ]
    },
    {
     "data": {
      "text/plain": [
       "GridSearchCV(cv=5, estimator=DecisionTreeClassifier(random_state=0), n_jobs=-1,\n",
       "             param_grid={'criterion': ['gini', 'entropy'],\n",
       "                         'max_depth': range(1, 5),\n",
       "                         'min_samples_leaf': range(1, 5),\n",
       "                         'min_samples_split': range(1, 5)},\n",
       "             verbose=1)"
      ]
     },
     "execution_count": 108,
     "metadata": {},
     "output_type": "execute_result"
    }
   ],
   "source": [
    "# #create params dictionary\n",
    "# param_dict = {\n",
    "#     'criterion':['gini','entropy'],\n",
    "#     \"max_depth\": range(1,5),\n",
    "#     \"min_samples_split\": range(1,5),\n",
    "#     \"min_samples_leaf\": range(1,5)\n",
    "# }\n",
    "\n",
    "# grid = GridSearchCV(clf,\n",
    "#                    param_grid=param_dict,\n",
    "#                    cv=5,\n",
    "#                    verbose=1,\n",
    "#                    n_jobs=-1)\n",
    "# grid.fit(X_train,y_train)"
   ]
  },
  {
   "cell_type": "code",
   "execution_count": 110,
   "id": "0419516f",
   "metadata": {
    "scrolled": false
   },
   "outputs": [
    {
     "name": "stdout",
     "output_type": "stream",
     "text": [
      "{'criterion': 'gini', 'max_depth': 1, 'min_samples_leaf': 1, 'min_samples_split': 2}\n",
      "DecisionTreeClassifier(max_depth=1, random_state=0)\n"
     ]
    }
   ],
   "source": [
    "# print(grid.best_params_)\n",
    "# print(grid.best_estimator_)"
   ]
  },
  {
   "cell_type": "markdown",
   "id": "c1ae8568",
   "metadata": {},
   "source": [
    "{'criterion': 'gini', 'max_depth': 1, 'min_samples_leaf': 1, 'min_samples_split': 2}\n",
    "DecisionTreeClassifier(max_depth=1, random_state=0)"
   ]
  },
  {
   "cell_type": "code",
   "execution_count": 36,
   "id": "4b6d6c5e",
   "metadata": {},
   "outputs": [],
   "source": [
    "clf = DecisionTreeClassifier(criterion='gini',max_depth=1,min_samples_leaf=1,min_samples_split=2)"
   ]
  },
  {
   "cell_type": "code",
   "execution_count": 37,
   "id": "5842e49d",
   "metadata": {
    "scrolled": false
   },
   "outputs": [
    {
     "data": {
      "text/plain": [
       "0.6376021155789414"
      ]
     },
     "execution_count": 37,
     "metadata": {},
     "output_type": "execute_result"
    }
   ],
   "source": [
    "clf.fit(X_train,y_train)\n",
    "\n",
    "y_preds = clf.predict(X_test)\n",
    "\n",
    "fpr, tpr, thresholds = metrics.roc_curve(y_test, y_preds, pos_label=1)\n",
    "\n",
    "metrics.auc(fpr, tpr)"
   ]
  },
  {
   "cell_type": "markdown",
   "id": "12292aba",
   "metadata": {},
   "source": [
    "# Random Forest Classifier"
   ]
  },
  {
   "cell_type": "code",
   "execution_count": 38,
   "id": "c4b89954",
   "metadata": {},
   "outputs": [],
   "source": [
    "#seperate the features from the response variable (default.payment.next.month)\n",
    "X = train_df.iloc[:,:24]\n",
    "y = np.array(train_df['default.payment.next.month'])"
   ]
  },
  {
   "cell_type": "code",
   "execution_count": 49,
   "id": "959a96a9",
   "metadata": {
    "scrolled": true
   },
   "outputs": [
    {
     "name": "stderr",
     "output_type": "stream",
     "text": [
      "[Parallel(n_jobs=1)]: Using backend SequentialBackend with 1 concurrent workers.\n",
      "[Parallel(n_jobs=1)]: Done   1 out of   1 | elapsed:   24.8s remaining:    0.0s\n",
      "[Parallel(n_jobs=1)]: Done  24 out of  24 | elapsed:  3.2min finished\n",
      "\n",
      "[2022-03-28 16:49:49] Features: 1/20 -- score: 0.8167499999999999[Parallel(n_jobs=1)]: Using backend SequentialBackend with 1 concurrent workers.\n",
      "[Parallel(n_jobs=1)]: Done   1 out of   1 | elapsed:   16.1s remaining:    0.0s\n",
      "[Parallel(n_jobs=1)]: Done  23 out of  23 | elapsed:  2.4min finished\n",
      "\n",
      "[2022-03-28 16:52:14] Features: 2/20 -- score: 0.81755[Parallel(n_jobs=1)]: Using backend SequentialBackend with 1 concurrent workers.\n",
      "[Parallel(n_jobs=1)]: Done   1 out of   1 | elapsed:   10.2s remaining:    0.0s\n",
      "[Parallel(n_jobs=1)]: Done  22 out of  22 | elapsed:  2.1min finished\n",
      "\n",
      "[2022-03-28 16:54:17] Features: 3/20 -- score: 0.8178000000000001[Parallel(n_jobs=1)]: Using backend SequentialBackend with 1 concurrent workers.\n",
      "[Parallel(n_jobs=1)]: Done   1 out of   1 | elapsed:   10.1s remaining:    0.0s\n",
      "[Parallel(n_jobs=1)]: Done  21 out of  21 | elapsed:  2.2min finished\n",
      "\n",
      "[2022-03-28 16:56:28] Features: 4/20 -- score: 0.81785[Parallel(n_jobs=1)]: Using backend SequentialBackend with 1 concurrent workers.\n",
      "[Parallel(n_jobs=1)]: Done   1 out of   1 | elapsed:    9.7s remaining:    0.0s\n",
      "[Parallel(n_jobs=1)]: Done  20 out of  20 | elapsed:  2.2min finished\n",
      "\n",
      "[2022-03-28 16:58:38] Features: 5/20 -- score: 0.8171000000000002[Parallel(n_jobs=1)]: Using backend SequentialBackend with 1 concurrent workers.\n",
      "[Parallel(n_jobs=1)]: Done   1 out of   1 | elapsed:    9.0s remaining:    0.0s\n",
      "[Parallel(n_jobs=1)]: Done  19 out of  19 | elapsed:  2.2min finished\n",
      "\n",
      "[2022-03-28 17:00:48] Features: 6/20 -- score: 0.8128[Parallel(n_jobs=1)]: Using backend SequentialBackend with 1 concurrent workers.\n",
      "[Parallel(n_jobs=1)]: Done   1 out of   1 | elapsed:    8.6s remaining:    0.0s\n",
      "[Parallel(n_jobs=1)]: Done  18 out of  18 | elapsed:  2.1min finished\n",
      "\n",
      "[2022-03-28 17:02:51] Features: 7/20 -- score: 0.8106500000000001[Parallel(n_jobs=1)]: Using backend SequentialBackend with 1 concurrent workers.\n",
      "[Parallel(n_jobs=1)]: Done   1 out of   1 | elapsed:    8.3s remaining:    0.0s\n",
      "[Parallel(n_jobs=1)]: Done  17 out of  17 | elapsed:  2.0min finished\n",
      "\n",
      "[2022-03-28 17:04:53] Features: 8/20 -- score: 0.8057000000000001[Parallel(n_jobs=1)]: Using backend SequentialBackend with 1 concurrent workers.\n",
      "[Parallel(n_jobs=1)]: Done   1 out of   1 | elapsed:   12.7s remaining:    0.0s\n",
      "[Parallel(n_jobs=1)]: Done  16 out of  16 | elapsed:  2.5min finished\n",
      "\n",
      "[2022-03-28 17:07:23] Features: 9/20 -- score: 0.8009499999999999[Parallel(n_jobs=1)]: Using backend SequentialBackend with 1 concurrent workers.\n",
      "[Parallel(n_jobs=1)]: Done   1 out of   1 | elapsed:   10.1s remaining:    0.0s\n",
      "[Parallel(n_jobs=1)]: Done  15 out of  15 | elapsed:  2.3min finished\n",
      "\n",
      "[2022-03-28 17:09:41] Features: 10/20 -- score: 0.7893000000000001[Parallel(n_jobs=1)]: Using backend SequentialBackend with 1 concurrent workers.\n",
      "[Parallel(n_jobs=1)]: Done   1 out of   1 | elapsed:   10.4s remaining:    0.0s\n",
      "[Parallel(n_jobs=1)]: Done  14 out of  14 | elapsed:  2.3min finished\n",
      "\n",
      "[2022-03-28 17:11:56] Features: 11/20 -- score: 0.7943[Parallel(n_jobs=1)]: Using backend SequentialBackend with 1 concurrent workers.\n",
      "[Parallel(n_jobs=1)]: Done   1 out of   1 | elapsed:   11.2s remaining:    0.0s\n",
      "[Parallel(n_jobs=1)]: Done  13 out of  13 | elapsed:  2.5min finished\n",
      "\n",
      "[2022-03-28 17:14:26] Features: 12/20 -- score: 0.80885[Parallel(n_jobs=1)]: Using backend SequentialBackend with 1 concurrent workers.\n",
      "[Parallel(n_jobs=1)]: Done   1 out of   1 | elapsed:   11.5s remaining:    0.0s\n",
      "[Parallel(n_jobs=1)]: Done  12 out of  12 | elapsed:  2.5min finished\n",
      "\n",
      "[2022-03-28 17:16:53] Features: 13/20 -- score: 0.8121499999999999[Parallel(n_jobs=1)]: Using backend SequentialBackend with 1 concurrent workers.\n",
      "[Parallel(n_jobs=1)]: Done   1 out of   1 | elapsed:   12.7s remaining:    0.0s\n",
      "[Parallel(n_jobs=1)]: Done  11 out of  11 | elapsed:  2.4min finished\n",
      "\n",
      "[2022-03-28 17:19:20] Features: 14/20 -- score: 0.81365[Parallel(n_jobs=1)]: Using backend SequentialBackend with 1 concurrent workers.\n",
      "[Parallel(n_jobs=1)]: Done   1 out of   1 | elapsed:   13.6s remaining:    0.0s\n",
      "[Parallel(n_jobs=1)]: Done  10 out of  10 | elapsed:  2.2min finished\n",
      "\n",
      "[2022-03-28 17:21:33] Features: 15/20 -- score: 0.8145[Parallel(n_jobs=1)]: Using backend SequentialBackend with 1 concurrent workers.\n",
      "[Parallel(n_jobs=1)]: Done   1 out of   1 | elapsed:   17.5s remaining:    0.0s\n",
      "[Parallel(n_jobs=1)]: Done   9 out of   9 | elapsed:  2.6min finished\n",
      "\n",
      "[2022-03-28 17:24:09] Features: 16/20 -- score: 0.8140000000000001[Parallel(n_jobs=1)]: Using backend SequentialBackend with 1 concurrent workers.\n",
      "[Parallel(n_jobs=1)]: Done   1 out of   1 | elapsed:   17.9s remaining:    0.0s\n",
      "[Parallel(n_jobs=1)]: Done   8 out of   8 | elapsed:  2.4min finished\n",
      "\n",
      "[2022-03-28 17:26:31] Features: 17/20 -- score: 0.81465[Parallel(n_jobs=1)]: Using backend SequentialBackend with 1 concurrent workers.\n",
      "[Parallel(n_jobs=1)]: Done   1 out of   1 | elapsed:   18.1s remaining:    0.0s\n",
      "[Parallel(n_jobs=1)]: Done   7 out of   7 | elapsed:  2.2min finished\n",
      "\n",
      "[2022-03-28 17:28:41] Features: 18/20 -- score: 0.8141999999999999[Parallel(n_jobs=1)]: Using backend SequentialBackend with 1 concurrent workers.\n",
      "[Parallel(n_jobs=1)]: Done   1 out of   1 | elapsed:   19.5s remaining:    0.0s\n",
      "[Parallel(n_jobs=1)]: Done   6 out of   6 | elapsed:  2.0min finished\n",
      "\n",
      "[2022-03-28 17:30:38] Features: 19/20 -- score: 0.8141999999999999[Parallel(n_jobs=1)]: Using backend SequentialBackend with 1 concurrent workers.\n",
      "[Parallel(n_jobs=1)]: Done   1 out of   1 | elapsed:   19.9s remaining:    0.0s\n",
      "[Parallel(n_jobs=1)]: Done   5 out of   5 | elapsed:  1.6min finished\n",
      "\n",
      "[2022-03-28 17:32:17] Features: 20/20 -- score: 0.81425"
     ]
    }
   ],
   "source": [
    "# rf_clf = RandomForestClassifier(random_state=123)\n",
    "\n",
    "# for_step_select_rf = sfs(rf_clf, k_features=20, forward=True, verbose=2, scoring='accuracy')\n",
    "# #fit the forward stepwise selection class to the data\n",
    "# for_step_select_rf = for_step_select_rf.fit(X, y)"
   ]
  },
  {
   "cell_type": "code",
   "execution_count": 60,
   "id": "f94d817e",
   "metadata": {},
   "outputs": [
    {
     "name": "stdout",
     "output_type": "stream",
     "text": [
      "['cust_id', 'LIMIT_BAL', 'SEX', 'EDUCATION', 'MARRIAGE', 'AGE', 'PAY_0', 'PAY_2', 'PAY_3', 'PAY_4', 'PAY_5', 'PAY_6', 'BILL_AMT1', 'BILL_AMT2', 'BILL_AMT4', 'PAY_AMT1', 'PAY_AMT2', 'PAY_AMT3', 'PAY_AMT5', 'PAY_AMT6']\n"
     ]
    }
   ],
   "source": [
    "# best_feats_rf = list(for_step_select_rf.k_feature_names_)\n",
    "# print(best_feats_rf)"
   ]
  },
  {
   "cell_type": "code",
   "execution_count": 40,
   "id": "1f17063a",
   "metadata": {},
   "outputs": [],
   "source": [
    "#subset X for best features from forward stepwise selection only\n",
    "best_feats_rf = ['cust_id', 'LIMIT_BAL', 'SEX', 'EDUCATION', 'MARRIAGE', 'AGE', 'PAY_0', 'PAY_2', 'PAY_3', 'PAY_4', 'PAY_5', 'PAY_6', 'BILL_AMT1', 'BILL_AMT2', 'BILL_AMT4', 'PAY_AMT1', 'PAY_AMT2', 'PAY_AMT3', 'PAY_AMT5', 'PAY_AMT6']\n",
    "X = X[best_feats_rf]"
   ]
  },
  {
   "cell_type": "code",
   "execution_count": 45,
   "id": "52264c61",
   "metadata": {},
   "outputs": [],
   "source": [
    "#stratified train test split\n",
    "X_train, X_test, y_train, y_test = train_test_split(X,y,test_size=0.2,random_state=123,stratify=y)"
   ]
  },
  {
   "cell_type": "code",
   "execution_count": 121,
   "id": "00504260",
   "metadata": {
    "scrolled": false
   },
   "outputs": [
    {
     "name": "stdout",
     "output_type": "stream",
     "text": [
      "Fitting 5 folds for each of 864 candidates, totalling 4320 fits\n"
     ]
    },
    {
     "data": {
      "text/plain": [
       "GridSearchCV(cv=5, estimator=RandomForestClassifier(random_state=123),\n",
       "             n_jobs=-1,\n",
       "             param_grid={'bootstrap': [True, False],\n",
       "                         'max_depth': [10, 20, 30, 40, 50, None],\n",
       "                         'max_features': ['auto', 'sqrt'],\n",
       "                         'min_samples_leaf': [1, 2, 4],\n",
       "                         'min_samples_split': [2, 5, 10],\n",
       "                         'n_estimators': [200, 400, 600, 800]},\n",
       "             verbose=1)"
      ]
     },
     "execution_count": 121,
     "metadata": {},
     "output_type": "execute_result"
    }
   ],
   "source": [
    "#create params dictionary\n",
    "# param_dict = {'bootstrap': [True, False],\n",
    "#  'max_depth': [10, 20, 30, 40, 50, None],\n",
    "#  'max_features': ['auto', 'sqrt'],\n",
    "#  'min_samples_leaf': [1, 2, 4],\n",
    "#  'min_samples_split': [2, 5, 10],\n",
    "#  'n_estimators': [200, 400, 600, 800]}\n",
    "\n",
    "\n",
    "# grid = GridSearchCV(rf_clf,\n",
    "#                    param_grid=param_dict,\n",
    "#                    cv=5,\n",
    "#                    verbose=1,\n",
    "#                    n_jobs=-1)\n",
    "\n",
    "# grid.fit(X_train,y_train)"
   ]
  },
  {
   "cell_type": "code",
   "execution_count": null,
   "id": "b8eca716",
   "metadata": {},
   "outputs": [
    {
     "name": "stdout",
     "output_type": "stream",
     "text": [
      "Fitting 5 folds for each of 50 candidates, totalling 250 fits\n",
      "[CV 1/5] END bootstrap=True, max_depth=40, max_features=auto, min_samples_leaf=4, min_samples_split=10, n_estimators=230;, score=0.816 total time= 1.0min\n",
      "[CV 2/5] END bootstrap=True, max_depth=40, max_features=auto, min_samples_leaf=4, min_samples_split=10, n_estimators=230;, score=0.817 total time= 1.3min\n",
      "[CV 3/5] END bootstrap=True, max_depth=40, max_features=auto, min_samples_leaf=4, min_samples_split=10, n_estimators=230;, score=0.816 total time= 1.2min\n",
      "[CV 4/5] END bootstrap=True, max_depth=40, max_features=auto, min_samples_leaf=4, min_samples_split=10, n_estimators=230;, score=0.821 total time=  58.7s\n",
      "[CV 5/5] END bootstrap=True, max_depth=40, max_features=auto, min_samples_leaf=4, min_samples_split=10, n_estimators=230;, score=0.819 total time=  57.7s\n",
      "[CV 1/5] END bootstrap=False, max_depth=40, max_features=auto, min_samples_leaf=2, min_samples_split=5, n_estimators=130;, score=0.809 total time= 1.0min\n",
      "[CV 2/5] END bootstrap=False, max_depth=40, max_features=auto, min_samples_leaf=2, min_samples_split=5, n_estimators=130;, score=0.816 total time=  59.3s\n",
      "[CV 3/5] END bootstrap=False, max_depth=40, max_features=auto, min_samples_leaf=2, min_samples_split=5, n_estimators=130;, score=0.809 total time=  54.5s\n",
      "[CV 4/5] END bootstrap=False, max_depth=40, max_features=auto, min_samples_leaf=2, min_samples_split=5, n_estimators=130;, score=0.819 total time=  53.9s\n",
      "[CV 5/5] END bootstrap=False, max_depth=40, max_features=auto, min_samples_leaf=2, min_samples_split=5, n_estimators=130;, score=0.816 total time=  56.1s\n",
      "[CV 1/5] END bootstrap=True, max_depth=20, max_features=sqrt, min_samples_leaf=4, min_samples_split=10, n_estimators=180;, score=0.814 total time=  51.7s\n",
      "[CV 2/5] END bootstrap=True, max_depth=20, max_features=sqrt, min_samples_leaf=4, min_samples_split=10, n_estimators=180;, score=0.815 total time=  45.1s\n",
      "[CV 3/5] END bootstrap=True, max_depth=20, max_features=sqrt, min_samples_leaf=4, min_samples_split=10, n_estimators=180;, score=0.816 total time=  47.1s\n",
      "[CV 4/5] END bootstrap=True, max_depth=20, max_features=sqrt, min_samples_leaf=4, min_samples_split=10, n_estimators=180;, score=0.820 total time=  50.0s\n",
      "[CV 5/5] END bootstrap=True, max_depth=20, max_features=sqrt, min_samples_leaf=4, min_samples_split=10, n_estimators=180;, score=0.818 total time=  47.1s\n",
      "[CV 1/5] END bootstrap=False, max_depth=50, max_features=sqrt, min_samples_leaf=1, min_samples_split=2, n_estimators=230;, score=0.808 total time= 1.7min\n",
      "[CV 2/5] END bootstrap=False, max_depth=50, max_features=sqrt, min_samples_leaf=1, min_samples_split=2, n_estimators=230;, score=0.812 total time= 1.9min\n",
      "[CV 3/5] END bootstrap=False, max_depth=50, max_features=sqrt, min_samples_leaf=1, min_samples_split=2, n_estimators=230;, score=0.808 total time= 2.0min\n",
      "[CV 4/5] END bootstrap=False, max_depth=50, max_features=sqrt, min_samples_leaf=1, min_samples_split=2, n_estimators=230;, score=0.817 total time= 1.8min\n",
      "[CV 5/5] END bootstrap=False, max_depth=50, max_features=sqrt, min_samples_leaf=1, min_samples_split=2, n_estimators=230;, score=0.811 total time= 1.8min\n",
      "[CV 1/5] END bootstrap=True, max_depth=None, max_features=sqrt, min_samples_leaf=4, min_samples_split=2, n_estimators=180;, score=0.814 total time=  46.7s\n",
      "[CV 2/5] END bootstrap=True, max_depth=None, max_features=sqrt, min_samples_leaf=4, min_samples_split=2, n_estimators=180;, score=0.820 total time=  55.0s\n",
      "[CV 3/5] END bootstrap=True, max_depth=None, max_features=sqrt, min_samples_leaf=4, min_samples_split=2, n_estimators=180;, score=0.813 total time=  45.9s\n",
      "[CV 4/5] END bootstrap=True, max_depth=None, max_features=sqrt, min_samples_leaf=4, min_samples_split=2, n_estimators=180;, score=0.823 total time=  44.3s\n",
      "[CV 5/5] END bootstrap=True, max_depth=None, max_features=sqrt, min_samples_leaf=4, min_samples_split=2, n_estimators=180;, score=0.818 total time=  49.7s\n",
      "[CV 1/5] END bootstrap=True, max_depth=20, max_features=auto, min_samples_leaf=4, min_samples_split=2, n_estimators=180;, score=0.816 total time=  58.6s\n",
      "[CV 2/5] END bootstrap=True, max_depth=20, max_features=auto, min_samples_leaf=4, min_samples_split=2, n_estimators=180;, score=0.819 total time= 1.0min\n",
      "[CV 3/5] END bootstrap=True, max_depth=20, max_features=auto, min_samples_leaf=4, min_samples_split=2, n_estimators=180;, score=0.815 total time=  48.6s\n"
     ]
    }
   ],
   "source": [
    "rf = RandomForestClassifier()\n",
    "param_grid = {'bootstrap': [True, False],\n",
    "               'max_depth': [10, 20, 30, 40, 50, 60, 70, None],\n",
    "               'max_features': ['auto', 'sqrt'],\n",
    "               'min_samples_leaf': [1, 2, 4],\n",
    "               'min_samples_split': [2, 5, 10],\n",
    "               'n_estimators': [130, 180, 230,1000]}\n",
    "grid = RandomizedSearchCV(rf,param_grid,n_iter=50,random_state=123,verbose=3)\n",
    "grid.fit(X_train,y_train)"
   ]
  },
  {
   "cell_type": "markdown",
   "id": "67481066",
   "metadata": {},
   "source": [
    "{'bootstrap': True, 'max_depth': 10, 'max_features': 'auto', 'min_samples_leaf': 2, 'min_samples_split': 10, 'n_estimators': 200}\n",
    "RandomForestClassifier(max_depth=10, min_samples_leaf=2, min_samples_split=10,\n",
    "                       n_estimators=200, random_state=123)"
   ]
  },
  {
   "cell_type": "code",
   "execution_count": 122,
   "id": "21e35ab2",
   "metadata": {
    "scrolled": true
   },
   "outputs": [
    {
     "name": "stdout",
     "output_type": "stream",
     "text": [
      "{'bootstrap': True, 'max_depth': 10, 'max_features': 'auto', 'min_samples_leaf': 2, 'min_samples_split': 10, 'n_estimators': 200}\n",
      "RandomForestClassifier(max_depth=10, min_samples_leaf=2, min_samples_split=10,\n",
      "                       n_estimators=200, random_state=123)\n"
     ]
    }
   ],
   "source": [
    "# print(grid.best_params_)\n",
    "# print(grid.best_estimator_)"
   ]
  },
  {
   "cell_type": "code",
   "execution_count": 52,
   "id": "4f132495",
   "metadata": {},
   "outputs": [
    {
     "data": {
      "text/plain": [
       "0.653996405202755"
      ]
     },
     "execution_count": 52,
     "metadata": {},
     "output_type": "execute_result"
    }
   ],
   "source": [
    "rf_clf = RandomForestClassifier(max_depth=20, min_samples_leaf=2, min_samples_split=5,\n",
    "                       n_estimators=1000, random_state=123)\n",
    "\n",
    "rf_clf.fit(X_train,y_train)\n",
    "\n",
    "y_preds = rf_clf.predict(X_test)\n",
    "\n",
    "fpr, tpr, thresholds = metrics.roc_curve(y_test, y_preds, pos_label=1)\n",
    "\n",
    "metrics.auc(fpr, tpr)"
   ]
  },
  {
   "cell_type": "markdown",
   "id": "9dc431e6",
   "metadata": {},
   "source": [
    "# SVM"
   ]
  },
  {
   "cell_type": "code",
   "execution_count": 55,
   "id": "2519d350",
   "metadata": {
    "scrolled": true
   },
   "outputs": [
    {
     "name": "stderr",
     "output_type": "stream",
     "text": [
      "[Parallel(n_jobs=1)]: Using backend SequentialBackend with 1 concurrent workers.\n",
      "[Parallel(n_jobs=1)]: Done   1 out of   1 | elapsed:   24.5s remaining:    0.0s\n",
      "[Parallel(n_jobs=1)]: Done  20 out of  20 | elapsed:  2.3min finished\n",
      "\n",
      "[2022-03-28 17:34:37] Features: 1/20 -- score: 0.8167499999999999[Parallel(n_jobs=1)]: Using backend SequentialBackend with 1 concurrent workers.\n",
      "[Parallel(n_jobs=1)]: Done   1 out of   1 | elapsed:   15.0s remaining:    0.0s\n",
      "[Parallel(n_jobs=1)]: Done  19 out of  19 | elapsed:  1.8min finished\n",
      "\n",
      "[2022-03-28 17:36:23] Features: 2/20 -- score: 0.81755[Parallel(n_jobs=1)]: Using backend SequentialBackend with 1 concurrent workers.\n",
      "[Parallel(n_jobs=1)]: Done   1 out of   1 | elapsed:   11.1s remaining:    0.0s\n",
      "[Parallel(n_jobs=1)]: Done  18 out of  18 | elapsed:  1.6min finished\n",
      "\n",
      "[2022-03-28 17:37:57] Features: 3/20 -- score: 0.8178000000000001[Parallel(n_jobs=1)]: Using backend SequentialBackend with 1 concurrent workers.\n",
      "[Parallel(n_jobs=1)]: Done   1 out of   1 | elapsed:   10.6s remaining:    0.0s\n",
      "[Parallel(n_jobs=1)]: Done  17 out of  17 | elapsed:  1.6min finished\n",
      "\n",
      "[2022-03-28 17:39:35] Features: 4/20 -- score: 0.81785[Parallel(n_jobs=1)]: Using backend SequentialBackend with 1 concurrent workers.\n",
      "[Parallel(n_jobs=1)]: Done   1 out of   1 | elapsed:    9.5s remaining:    0.0s\n",
      "[Parallel(n_jobs=1)]: Done  16 out of  16 | elapsed:  1.6min finished\n",
      "\n",
      "[2022-03-28 17:41:12] Features: 5/20 -- score: 0.8171000000000002[Parallel(n_jobs=1)]: Using backend SequentialBackend with 1 concurrent workers.\n",
      "[Parallel(n_jobs=1)]: Done   1 out of   1 | elapsed:    8.9s remaining:    0.0s\n",
      "[Parallel(n_jobs=1)]: Done  15 out of  15 | elapsed:  1.5min finished\n",
      "\n",
      "[2022-03-28 17:42:42] Features: 6/20 -- score: 0.8128[Parallel(n_jobs=1)]: Using backend SequentialBackend with 1 concurrent workers.\n",
      "[Parallel(n_jobs=1)]: Done   1 out of   1 | elapsed:    7.1s remaining:    0.0s\n",
      "[Parallel(n_jobs=1)]: Done  14 out of  14 | elapsed:  1.2min finished\n",
      "\n",
      "[2022-03-28 17:43:57] Features: 7/20 -- score: 0.8106500000000001[Parallel(n_jobs=1)]: Using backend SequentialBackend with 1 concurrent workers.\n",
      "[Parallel(n_jobs=1)]: Done   1 out of   1 | elapsed:    6.6s remaining:    0.0s\n",
      "[Parallel(n_jobs=1)]: Done  13 out of  13 | elapsed:  1.2min finished\n",
      "\n",
      "[2022-03-28 17:45:08] Features: 8/20 -- score: 0.8057000000000001[Parallel(n_jobs=1)]: Using backend SequentialBackend with 1 concurrent workers.\n",
      "[Parallel(n_jobs=1)]: Done   1 out of   1 | elapsed:    8.0s remaining:    0.0s\n",
      "[Parallel(n_jobs=1)]: Done  12 out of  12 | elapsed:  1.4min finished\n",
      "\n",
      "[2022-03-28 17:46:33] Features: 9/20 -- score: 0.8009499999999999[Parallel(n_jobs=1)]: Using backend SequentialBackend with 1 concurrent workers.\n",
      "[Parallel(n_jobs=1)]: Done   1 out of   1 | elapsed:    8.2s remaining:    0.0s\n",
      "[Parallel(n_jobs=1)]: Done  11 out of  11 | elapsed:  1.4min finished\n",
      "\n",
      "[2022-03-28 17:47:56] Features: 10/20 -- score: 0.7893000000000001[Parallel(n_jobs=1)]: Using backend SequentialBackend with 1 concurrent workers.\n",
      "[Parallel(n_jobs=1)]: Done   1 out of   1 | elapsed:    9.3s remaining:    0.0s\n",
      "[Parallel(n_jobs=1)]: Done  10 out of  10 | elapsed:  1.5min finished\n",
      "\n",
      "[2022-03-28 17:49:25] Features: 11/20 -- score: 0.7943[Parallel(n_jobs=1)]: Using backend SequentialBackend with 1 concurrent workers.\n",
      "[Parallel(n_jobs=1)]: Done   1 out of   1 | elapsed:   10.3s remaining:    0.0s\n",
      "[Parallel(n_jobs=1)]: Done   9 out of   9 | elapsed:  1.6min finished\n",
      "\n",
      "[2022-03-28 17:51:03] Features: 12/20 -- score: 0.80885[Parallel(n_jobs=1)]: Using backend SequentialBackend with 1 concurrent workers.\n",
      "[Parallel(n_jobs=1)]: Done   1 out of   1 | elapsed:   11.7s remaining:    0.0s\n",
      "[Parallel(n_jobs=1)]: Done   8 out of   8 | elapsed:  1.3min finished\n",
      "\n",
      "[2022-03-28 17:52:22] Features: 13/20 -- score: 0.8121499999999999[Parallel(n_jobs=1)]: Using backend SequentialBackend with 1 concurrent workers.\n",
      "[Parallel(n_jobs=1)]: Done   1 out of   1 | elapsed:    9.9s remaining:    0.0s\n",
      "[Parallel(n_jobs=1)]: Done   7 out of   7 | elapsed:  1.2min finished\n",
      "\n",
      "[2022-03-28 17:53:34] Features: 14/20 -- score: 0.81365[Parallel(n_jobs=1)]: Using backend SequentialBackend with 1 concurrent workers.\n",
      "[Parallel(n_jobs=1)]: Done   1 out of   1 | elapsed:   11.0s remaining:    0.0s\n",
      "[Parallel(n_jobs=1)]: Done   6 out of   6 | elapsed:  1.2min finished\n",
      "\n",
      "[2022-03-28 17:54:43] Features: 15/20 -- score: 0.8145[Parallel(n_jobs=1)]: Using backend SequentialBackend with 1 concurrent workers.\n",
      "[Parallel(n_jobs=1)]: Done   1 out of   1 | elapsed:   14.2s remaining:    0.0s\n",
      "[Parallel(n_jobs=1)]: Done   5 out of   5 | elapsed:  1.2min finished\n",
      "\n",
      "[2022-03-28 17:55:54] Features: 16/20 -- score: 0.8140000000000001[Parallel(n_jobs=1)]: Using backend SequentialBackend with 1 concurrent workers.\n",
      "[Parallel(n_jobs=1)]: Done   1 out of   1 | elapsed:   14.9s remaining:    0.0s\n",
      "[Parallel(n_jobs=1)]: Done   4 out of   4 | elapsed:   59.4s finished\n",
      "\n",
      "[2022-03-28 17:56:53] Features: 17/20 -- score: 0.81465[Parallel(n_jobs=1)]: Using backend SequentialBackend with 1 concurrent workers.\n",
      "[Parallel(n_jobs=1)]: Done   1 out of   1 | elapsed:   14.3s remaining:    0.0s\n",
      "[Parallel(n_jobs=1)]: Done   3 out of   3 | elapsed:   43.8s finished\n",
      "\n",
      "[2022-03-28 17:57:37] Features: 18/20 -- score: 0.8141999999999999[Parallel(n_jobs=1)]: Using backend SequentialBackend with 1 concurrent workers.\n",
      "[Parallel(n_jobs=1)]: Done   1 out of   1 | elapsed:   15.8s remaining:    0.0s\n",
      "[Parallel(n_jobs=1)]: Done   2 out of   2 | elapsed:   30.9s finished\n",
      "\n",
      "[2022-03-28 17:58:08] Features: 19/20 -- score: 0.8141999999999999[Parallel(n_jobs=1)]: Using backend SequentialBackend with 1 concurrent workers.\n",
      "[Parallel(n_jobs=1)]: Done   1 out of   1 | elapsed:   16.0s remaining:    0.0s\n",
      "[Parallel(n_jobs=1)]: Done   1 out of   1 | elapsed:   16.0s finished\n",
      "\n",
      "[2022-03-28 17:58:24] Features: 20/20 -- score: 0.81425"
     ]
    }
   ],
   "source": [
    "SVM_clf = LinearSVC() #using linear kernel\n",
    "for_step_select_SVM = sfs(SVM_clf, k_features=20, forward=True, verbose=2, scoring='accuracy')\n",
    "#fit the forward stepwise selection class to the data\n",
    "for_step_select_SVM = for_step_select_rf.fit(X, y)"
   ]
  },
  {
   "cell_type": "code",
   "execution_count": 68,
   "id": "74d081a6",
   "metadata": {},
   "outputs": [],
   "source": [
    "SVM_clf = LinearSVC() #using linear kernel"
   ]
  },
  {
   "cell_type": "code",
   "execution_count": 61,
   "id": "b8391106",
   "metadata": {
    "scrolled": true
   },
   "outputs": [
    {
     "name": "stdout",
     "output_type": "stream",
     "text": [
      "['cust_id', 'LIMIT_BAL', 'SEX', 'EDUCATION', 'MARRIAGE', 'AGE', 'PAY_0', 'PAY_2', 'PAY_3', 'PAY_4', 'PAY_5', 'PAY_6', 'BILL_AMT1', 'BILL_AMT2', 'BILL_AMT4', 'PAY_AMT1', 'PAY_AMT2', 'PAY_AMT3', 'PAY_AMT5', 'PAY_AMT6']\n"
     ]
    }
   ],
   "source": [
    "best_feats_SVM = list(for_step_select_SVM.k_feature_names_)\n",
    "print(best_feats_SVM)"
   ]
  },
  {
   "cell_type": "code",
   "execution_count": 62,
   "id": "cd962957",
   "metadata": {},
   "outputs": [],
   "source": [
    "#subset X for best features from forward stepwise selection only\n",
    "X = X[best_feats_SVM]"
   ]
  },
  {
   "cell_type": "code",
   "execution_count": 116,
   "id": "25c8c94e",
   "metadata": {},
   "outputs": [],
   "source": [
    "#stratified train test split\n",
    "X_train, X_test, y_train, y_test = train_test_split(X,y,test_size=0.33,random_state=123,stratify=y)"
   ]
  },
  {
   "cell_type": "code",
   "execution_count": 66,
   "id": "018ee6d4",
   "metadata": {},
   "outputs": [
    {
     "data": {
      "text/plain": [
       "SVC()"
      ]
     },
     "execution_count": 66,
     "metadata": {},
     "output_type": "execute_result"
    }
   ],
   "source": [
    "SVM_clf"
   ]
  },
  {
   "cell_type": "code",
   "execution_count": 93,
   "id": "8d6aacd5",
   "metadata": {
    "scrolled": true
   },
   "outputs": [
    {
     "name": "stdout",
     "output_type": "stream",
     "text": [
      "Fitting 5 folds for each of 10 candidates, totalling 50 fits\n"
     ]
    },
    {
     "name": "stderr",
     "output_type": "stream",
     "text": [
      "C:\\tools\\Anaconda3\\envs\\py\\lib\\site-packages\\sklearn\\svm\\_base.py:1206: ConvergenceWarning: Liblinear failed to converge, increase the number of iterations.\n",
      "  warnings.warn(\n"
     ]
    },
    {
     "name": "stdout",
     "output_type": "stream",
     "text": [
      "[CV 1/5] END C=1, class_weight=balanced, loss=hinge, max_iter=1000;, score=0.779 total time=   1.3s\n"
     ]
    },
    {
     "name": "stderr",
     "output_type": "stream",
     "text": [
      "C:\\tools\\Anaconda3\\envs\\py\\lib\\site-packages\\sklearn\\svm\\_base.py:1206: ConvergenceWarning: Liblinear failed to converge, increase the number of iterations.\n",
      "  warnings.warn(\n"
     ]
    },
    {
     "name": "stdout",
     "output_type": "stream",
     "text": [
      "[CV 2/5] END C=1, class_weight=balanced, loss=hinge, max_iter=1000;, score=0.780 total time=   1.3s\n"
     ]
    },
    {
     "name": "stderr",
     "output_type": "stream",
     "text": [
      "C:\\tools\\Anaconda3\\envs\\py\\lib\\site-packages\\sklearn\\svm\\_base.py:1206: ConvergenceWarning: Liblinear failed to converge, increase the number of iterations.\n",
      "  warnings.warn(\n"
     ]
    },
    {
     "name": "stdout",
     "output_type": "stream",
     "text": [
      "[CV 3/5] END C=1, class_weight=balanced, loss=hinge, max_iter=1000;, score=0.778 total time=   1.2s\n"
     ]
    },
    {
     "name": "stderr",
     "output_type": "stream",
     "text": [
      "C:\\tools\\Anaconda3\\envs\\py\\lib\\site-packages\\sklearn\\svm\\_base.py:1206: ConvergenceWarning: Liblinear failed to converge, increase the number of iterations.\n",
      "  warnings.warn(\n"
     ]
    },
    {
     "name": "stdout",
     "output_type": "stream",
     "text": [
      "[CV 4/5] END C=1, class_weight=balanced, loss=hinge, max_iter=1000;, score=0.769 total time=   2.1s\n"
     ]
    },
    {
     "name": "stderr",
     "output_type": "stream",
     "text": [
      "C:\\tools\\Anaconda3\\envs\\py\\lib\\site-packages\\sklearn\\svm\\_base.py:1206: ConvergenceWarning: Liblinear failed to converge, increase the number of iterations.\n",
      "  warnings.warn(\n"
     ]
    },
    {
     "name": "stdout",
     "output_type": "stream",
     "text": [
      "[CV 5/5] END C=1, class_weight=balanced, loss=hinge, max_iter=1000;, score=0.480 total time=   1.4s\n"
     ]
    },
    {
     "name": "stderr",
     "output_type": "stream",
     "text": [
      "C:\\tools\\Anaconda3\\envs\\py\\lib\\site-packages\\sklearn\\svm\\_base.py:1206: ConvergenceWarning: Liblinear failed to converge, increase the number of iterations.\n",
      "  warnings.warn(\n"
     ]
    },
    {
     "name": "stdout",
     "output_type": "stream",
     "text": [
      "[CV 1/5] END C=0.1, class_weight=balanced, loss=squared_hinge, max_iter=1000;, score=0.779 total time=   2.3s\n"
     ]
    },
    {
     "name": "stderr",
     "output_type": "stream",
     "text": [
      "C:\\tools\\Anaconda3\\envs\\py\\lib\\site-packages\\sklearn\\svm\\_base.py:1206: ConvergenceWarning: Liblinear failed to converge, increase the number of iterations.\n",
      "  warnings.warn(\n"
     ]
    },
    {
     "name": "stdout",
     "output_type": "stream",
     "text": [
      "[CV 2/5] END C=0.1, class_weight=balanced, loss=squared_hinge, max_iter=1000;, score=0.252 total time=   1.4s\n"
     ]
    },
    {
     "name": "stderr",
     "output_type": "stream",
     "text": [
      "C:\\tools\\Anaconda3\\envs\\py\\lib\\site-packages\\sklearn\\svm\\_base.py:1206: ConvergenceWarning: Liblinear failed to converge, increase the number of iterations.\n",
      "  warnings.warn(\n"
     ]
    },
    {
     "name": "stdout",
     "output_type": "stream",
     "text": [
      "[CV 3/5] END C=0.1, class_weight=balanced, loss=squared_hinge, max_iter=1000;, score=0.777 total time=   1.4s\n"
     ]
    },
    {
     "name": "stderr",
     "output_type": "stream",
     "text": [
      "C:\\tools\\Anaconda3\\envs\\py\\lib\\site-packages\\sklearn\\svm\\_base.py:1206: ConvergenceWarning: Liblinear failed to converge, increase the number of iterations.\n",
      "  warnings.warn(\n"
     ]
    },
    {
     "name": "stdout",
     "output_type": "stream",
     "text": [
      "[CV 4/5] END C=0.1, class_weight=balanced, loss=squared_hinge, max_iter=1000;, score=0.569 total time=   1.9s\n",
      "[CV 5/5] END C=0.1, class_weight=balanced, loss=squared_hinge, max_iter=1000;, score=0.406 total time=   1.8s\n"
     ]
    },
    {
     "name": "stderr",
     "output_type": "stream",
     "text": [
      "C:\\tools\\Anaconda3\\envs\\py\\lib\\site-packages\\sklearn\\svm\\_base.py:1206: ConvergenceWarning: Liblinear failed to converge, increase the number of iterations.\n",
      "  warnings.warn(\n",
      "C:\\tools\\Anaconda3\\envs\\py\\lib\\site-packages\\sklearn\\svm\\_base.py:1206: ConvergenceWarning: Liblinear failed to converge, increase the number of iterations.\n",
      "  warnings.warn(\n"
     ]
    },
    {
     "name": "stdout",
     "output_type": "stream",
     "text": [
      "[CV 1/5] END C=100, class_weight=None, loss=squared_hinge, max_iter=1000;, score=0.592 total time=   1.8s\n"
     ]
    },
    {
     "name": "stderr",
     "output_type": "stream",
     "text": [
      "C:\\tools\\Anaconda3\\envs\\py\\lib\\site-packages\\sklearn\\svm\\_base.py:1206: ConvergenceWarning: Liblinear failed to converge, increase the number of iterations.\n",
      "  warnings.warn(\n"
     ]
    },
    {
     "name": "stdout",
     "output_type": "stream",
     "text": [
      "[CV 2/5] END C=100, class_weight=None, loss=squared_hinge, max_iter=1000;, score=0.579 total time=   1.4s\n"
     ]
    },
    {
     "name": "stderr",
     "output_type": "stream",
     "text": [
      "C:\\tools\\Anaconda3\\envs\\py\\lib\\site-packages\\sklearn\\svm\\_base.py:1206: ConvergenceWarning: Liblinear failed to converge, increase the number of iterations.\n",
      "  warnings.warn(\n"
     ]
    },
    {
     "name": "stdout",
     "output_type": "stream",
     "text": [
      "[CV 3/5] END C=100, class_weight=None, loss=squared_hinge, max_iter=1000;, score=0.515 total time=   1.2s\n"
     ]
    },
    {
     "name": "stderr",
     "output_type": "stream",
     "text": [
      "C:\\tools\\Anaconda3\\envs\\py\\lib\\site-packages\\sklearn\\svm\\_base.py:1206: ConvergenceWarning: Liblinear failed to converge, increase the number of iterations.\n",
      "  warnings.warn(\n"
     ]
    },
    {
     "name": "stdout",
     "output_type": "stream",
     "text": [
      "[CV 4/5] END C=100, class_weight=None, loss=squared_hinge, max_iter=1000;, score=0.264 total time=   1.4s\n"
     ]
    },
    {
     "name": "stderr",
     "output_type": "stream",
     "text": [
      "C:\\tools\\Anaconda3\\envs\\py\\lib\\site-packages\\sklearn\\svm\\_base.py:1206: ConvergenceWarning: Liblinear failed to converge, increase the number of iterations.\n",
      "  warnings.warn(\n"
     ]
    },
    {
     "name": "stdout",
     "output_type": "stream",
     "text": [
      "[CV 5/5] END C=100, class_weight=None, loss=squared_hinge, max_iter=1000;, score=0.485 total time=   1.4s\n"
     ]
    },
    {
     "name": "stderr",
     "output_type": "stream",
     "text": [
      "C:\\tools\\Anaconda3\\envs\\py\\lib\\site-packages\\sklearn\\svm\\_base.py:1206: ConvergenceWarning: Liblinear failed to converge, increase the number of iterations.\n",
      "  warnings.warn(\n"
     ]
    },
    {
     "name": "stdout",
     "output_type": "stream",
     "text": [
      "[CV 1/5] END C=1000, class_weight=balanced, loss=squared_hinge, max_iter=1000;, score=0.778 total time=   1.1s\n"
     ]
    },
    {
     "name": "stderr",
     "output_type": "stream",
     "text": [
      "C:\\tools\\Anaconda3\\envs\\py\\lib\\site-packages\\sklearn\\svm\\_base.py:1206: ConvergenceWarning: Liblinear failed to converge, increase the number of iterations.\n",
      "  warnings.warn(\n"
     ]
    },
    {
     "name": "stdout",
     "output_type": "stream",
     "text": [
      "[CV 2/5] END C=1000, class_weight=balanced, loss=squared_hinge, max_iter=1000;, score=0.775 total time=   1.3s\n"
     ]
    },
    {
     "name": "stderr",
     "output_type": "stream",
     "text": [
      "C:\\tools\\Anaconda3\\envs\\py\\lib\\site-packages\\sklearn\\svm\\_base.py:1206: ConvergenceWarning: Liblinear failed to converge, increase the number of iterations.\n",
      "  warnings.warn(\n"
     ]
    },
    {
     "name": "stdout",
     "output_type": "stream",
     "text": [
      "[CV 3/5] END C=1000, class_weight=balanced, loss=squared_hinge, max_iter=1000;, score=0.225 total time=   1.1s\n"
     ]
    },
    {
     "name": "stderr",
     "output_type": "stream",
     "text": [
      "C:\\tools\\Anaconda3\\envs\\py\\lib\\site-packages\\sklearn\\svm\\_base.py:1206: ConvergenceWarning: Liblinear failed to converge, increase the number of iterations.\n",
      "  warnings.warn(\n"
     ]
    },
    {
     "name": "stdout",
     "output_type": "stream",
     "text": [
      "[CV 4/5] END C=1000, class_weight=balanced, loss=squared_hinge, max_iter=1000;, score=0.779 total time=   1.2s\n"
     ]
    },
    {
     "name": "stderr",
     "output_type": "stream",
     "text": [
      "C:\\tools\\Anaconda3\\envs\\py\\lib\\site-packages\\sklearn\\svm\\_base.py:1206: ConvergenceWarning: Liblinear failed to converge, increase the number of iterations.\n",
      "  warnings.warn(\n"
     ]
    },
    {
     "name": "stdout",
     "output_type": "stream",
     "text": [
      "[CV 5/5] END C=1000, class_weight=balanced, loss=squared_hinge, max_iter=1000;, score=0.538 total time=   1.3s\n"
     ]
    },
    {
     "name": "stderr",
     "output_type": "stream",
     "text": [
      "C:\\tools\\Anaconda3\\envs\\py\\lib\\site-packages\\sklearn\\svm\\_base.py:1206: ConvergenceWarning: Liblinear failed to converge, increase the number of iterations.\n",
      "  warnings.warn(\n"
     ]
    },
    {
     "name": "stdout",
     "output_type": "stream",
     "text": [
      "[CV 1/5] END C=1, class_weight=None, loss=hinge, max_iter=2000;, score=0.765 total time=   2.6s\n"
     ]
    },
    {
     "name": "stderr",
     "output_type": "stream",
     "text": [
      "C:\\tools\\Anaconda3\\envs\\py\\lib\\site-packages\\sklearn\\svm\\_base.py:1206: ConvergenceWarning: Liblinear failed to converge, increase the number of iterations.\n",
      "  warnings.warn(\n"
     ]
    },
    {
     "name": "stdout",
     "output_type": "stream",
     "text": [
      "[CV 2/5] END C=1, class_weight=None, loss=hinge, max_iter=2000;, score=0.779 total time=   2.7s\n"
     ]
    },
    {
     "name": "stderr",
     "output_type": "stream",
     "text": [
      "C:\\tools\\Anaconda3\\envs\\py\\lib\\site-packages\\sklearn\\svm\\_base.py:1206: ConvergenceWarning: Liblinear failed to converge, increase the number of iterations.\n",
      "  warnings.warn(\n"
     ]
    },
    {
     "name": "stdout",
     "output_type": "stream",
     "text": [
      "[CV 3/5] END C=1, class_weight=None, loss=hinge, max_iter=2000;, score=0.763 total time=   2.3s\n"
     ]
    },
    {
     "name": "stderr",
     "output_type": "stream",
     "text": [
      "C:\\tools\\Anaconda3\\envs\\py\\lib\\site-packages\\sklearn\\svm\\_base.py:1206: ConvergenceWarning: Liblinear failed to converge, increase the number of iterations.\n",
      "  warnings.warn(\n"
     ]
    },
    {
     "name": "stdout",
     "output_type": "stream",
     "text": [
      "[CV 4/5] END C=1, class_weight=None, loss=hinge, max_iter=2000;, score=0.756 total time=   2.6s\n"
     ]
    },
    {
     "name": "stderr",
     "output_type": "stream",
     "text": [
      "C:\\tools\\Anaconda3\\envs\\py\\lib\\site-packages\\sklearn\\svm\\_base.py:1206: ConvergenceWarning: Liblinear failed to converge, increase the number of iterations.\n",
      "  warnings.warn(\n"
     ]
    },
    {
     "name": "stdout",
     "output_type": "stream",
     "text": [
      "[CV 5/5] END C=1, class_weight=None, loss=hinge, max_iter=2000;, score=0.252 total time=   2.5s\n"
     ]
    },
    {
     "name": "stderr",
     "output_type": "stream",
     "text": [
      "C:\\tools\\Anaconda3\\envs\\py\\lib\\site-packages\\sklearn\\svm\\_base.py:1206: ConvergenceWarning: Liblinear failed to converge, increase the number of iterations.\n",
      "  warnings.warn(\n"
     ]
    },
    {
     "name": "stdout",
     "output_type": "stream",
     "text": [
      "[CV 1/5] END C=100, class_weight=None, loss=hinge, max_iter=1000;, score=0.320 total time=   1.3s\n"
     ]
    },
    {
     "name": "stderr",
     "output_type": "stream",
     "text": [
      "C:\\tools\\Anaconda3\\envs\\py\\lib\\site-packages\\sklearn\\svm\\_base.py:1206: ConvergenceWarning: Liblinear failed to converge, increase the number of iterations.\n",
      "  warnings.warn(\n"
     ]
    },
    {
     "name": "stdout",
     "output_type": "stream",
     "text": [
      "[CV 2/5] END C=100, class_weight=None, loss=hinge, max_iter=1000;, score=0.594 total time=   1.3s\n",
      "[CV 3/5] END C=100, class_weight=None, loss=hinge, max_iter=1000;, score=0.747 total time=   1.3s\n"
     ]
    },
    {
     "name": "stderr",
     "output_type": "stream",
     "text": [
      "C:\\tools\\Anaconda3\\envs\\py\\lib\\site-packages\\sklearn\\svm\\_base.py:1206: ConvergenceWarning: Liblinear failed to converge, increase the number of iterations.\n",
      "  warnings.warn(\n",
      "C:\\tools\\Anaconda3\\envs\\py\\lib\\site-packages\\sklearn\\svm\\_base.py:1206: ConvergenceWarning: Liblinear failed to converge, increase the number of iterations.\n",
      "  warnings.warn(\n"
     ]
    },
    {
     "name": "stdout",
     "output_type": "stream",
     "text": [
      "[CV 4/5] END C=100, class_weight=None, loss=hinge, max_iter=1000;, score=0.282 total time=   1.2s\n"
     ]
    },
    {
     "name": "stderr",
     "output_type": "stream",
     "text": [
      "C:\\tools\\Anaconda3\\envs\\py\\lib\\site-packages\\sklearn\\svm\\_base.py:1206: ConvergenceWarning: Liblinear failed to converge, increase the number of iterations.\n",
      "  warnings.warn(\n"
     ]
    },
    {
     "name": "stdout",
     "output_type": "stream",
     "text": [
      "[CV 5/5] END C=100, class_weight=None, loss=hinge, max_iter=1000;, score=0.374 total time=   1.4s\n"
     ]
    },
    {
     "name": "stderr",
     "output_type": "stream",
     "text": [
      "C:\\tools\\Anaconda3\\envs\\py\\lib\\site-packages\\sklearn\\svm\\_base.py:1206: ConvergenceWarning: Liblinear failed to converge, increase the number of iterations.\n",
      "  warnings.warn(\n"
     ]
    },
    {
     "name": "stdout",
     "output_type": "stream",
     "text": [
      "[CV 1/5] END C=0.1, class_weight=balanced, loss=hinge, max_iter=500;, score=0.779 total time=   0.6s\n"
     ]
    },
    {
     "name": "stderr",
     "output_type": "stream",
     "text": [
      "C:\\tools\\Anaconda3\\envs\\py\\lib\\site-packages\\sklearn\\svm\\_base.py:1206: ConvergenceWarning: Liblinear failed to converge, increase the number of iterations.\n",
      "  warnings.warn(\n"
     ]
    },
    {
     "name": "stdout",
     "output_type": "stream",
     "text": [
      "[CV 2/5] END C=0.1, class_weight=balanced, loss=hinge, max_iter=500;, score=0.221 total time=   0.6s\n"
     ]
    },
    {
     "name": "stderr",
     "output_type": "stream",
     "text": [
      "C:\\tools\\Anaconda3\\envs\\py\\lib\\site-packages\\sklearn\\svm\\_base.py:1206: ConvergenceWarning: Liblinear failed to converge, increase the number of iterations.\n",
      "  warnings.warn(\n"
     ]
    },
    {
     "name": "stdout",
     "output_type": "stream",
     "text": [
      "[CV 3/5] END C=0.1, class_weight=balanced, loss=hinge, max_iter=500;, score=0.730 total time=   0.7s\n"
     ]
    },
    {
     "name": "stderr",
     "output_type": "stream",
     "text": [
      "C:\\tools\\Anaconda3\\envs\\py\\lib\\site-packages\\sklearn\\svm\\_base.py:1206: ConvergenceWarning: Liblinear failed to converge, increase the number of iterations.\n",
      "  warnings.warn(\n"
     ]
    },
    {
     "name": "stdout",
     "output_type": "stream",
     "text": [
      "[CV 4/5] END C=0.1, class_weight=balanced, loss=hinge, max_iter=500;, score=0.725 total time=   0.5s\n"
     ]
    },
    {
     "name": "stderr",
     "output_type": "stream",
     "text": [
      "C:\\tools\\Anaconda3\\envs\\py\\lib\\site-packages\\sklearn\\svm\\_base.py:1206: ConvergenceWarning: Liblinear failed to converge, increase the number of iterations.\n",
      "  warnings.warn(\n"
     ]
    },
    {
     "name": "stdout",
     "output_type": "stream",
     "text": [
      "[CV 5/5] END C=0.1, class_weight=balanced, loss=hinge, max_iter=500;, score=0.396 total time=   0.6s\n"
     ]
    },
    {
     "name": "stderr",
     "output_type": "stream",
     "text": [
      "C:\\tools\\Anaconda3\\envs\\py\\lib\\site-packages\\sklearn\\svm\\_base.py:1206: ConvergenceWarning: Liblinear failed to converge, increase the number of iterations.\n",
      "  warnings.warn(\n"
     ]
    },
    {
     "name": "stdout",
     "output_type": "stream",
     "text": [
      "[CV 1/5] END C=100, class_weight=balanced, loss=squared_hinge, max_iter=2000;, score=0.776 total time=   2.4s\n"
     ]
    },
    {
     "name": "stderr",
     "output_type": "stream",
     "text": [
      "C:\\tools\\Anaconda3\\envs\\py\\lib\\site-packages\\sklearn\\svm\\_base.py:1206: ConvergenceWarning: Liblinear failed to converge, increase the number of iterations.\n",
      "  warnings.warn(\n"
     ]
    },
    {
     "name": "stdout",
     "output_type": "stream",
     "text": [
      "[CV 2/5] END C=100, class_weight=balanced, loss=squared_hinge, max_iter=2000;, score=0.719 total time=   2.6s\n"
     ]
    },
    {
     "name": "stderr",
     "output_type": "stream",
     "text": [
      "C:\\tools\\Anaconda3\\envs\\py\\lib\\site-packages\\sklearn\\svm\\_base.py:1206: ConvergenceWarning: Liblinear failed to converge, increase the number of iterations.\n",
      "  warnings.warn(\n"
     ]
    },
    {
     "name": "stdout",
     "output_type": "stream",
     "text": [
      "[CV 3/5] END C=100, class_weight=balanced, loss=squared_hinge, max_iter=2000;, score=0.573 total time=   2.9s\n"
     ]
    },
    {
     "name": "stderr",
     "output_type": "stream",
     "text": [
      "C:\\tools\\Anaconda3\\envs\\py\\lib\\site-packages\\sklearn\\svm\\_base.py:1206: ConvergenceWarning: Liblinear failed to converge, increase the number of iterations.\n",
      "  warnings.warn(\n"
     ]
    },
    {
     "name": "stdout",
     "output_type": "stream",
     "text": [
      "[CV 4/5] END C=100, class_weight=balanced, loss=squared_hinge, max_iter=2000;, score=0.505 total time=   2.6s\n"
     ]
    },
    {
     "name": "stderr",
     "output_type": "stream",
     "text": [
      "C:\\tools\\Anaconda3\\envs\\py\\lib\\site-packages\\sklearn\\svm\\_base.py:1206: ConvergenceWarning: Liblinear failed to converge, increase the number of iterations.\n",
      "  warnings.warn(\n"
     ]
    },
    {
     "name": "stdout",
     "output_type": "stream",
     "text": [
      "[CV 5/5] END C=100, class_weight=balanced, loss=squared_hinge, max_iter=2000;, score=0.515 total time=   2.6s\n"
     ]
    },
    {
     "name": "stderr",
     "output_type": "stream",
     "text": [
      "C:\\tools\\Anaconda3\\envs\\py\\lib\\site-packages\\sklearn\\svm\\_base.py:1206: ConvergenceWarning: Liblinear failed to converge, increase the number of iterations.\n",
      "  warnings.warn(\n"
     ]
    },
    {
     "name": "stdout",
     "output_type": "stream",
     "text": [
      "[CV 1/5] END C=0.1, class_weight=balanced, loss=hinge, max_iter=2000;, score=0.333 total time=   2.7s\n"
     ]
    },
    {
     "name": "stderr",
     "output_type": "stream",
     "text": [
      "C:\\tools\\Anaconda3\\envs\\py\\lib\\site-packages\\sklearn\\svm\\_base.py:1206: ConvergenceWarning: Liblinear failed to converge, increase the number of iterations.\n",
      "  warnings.warn(\n"
     ]
    },
    {
     "name": "stdout",
     "output_type": "stream",
     "text": [
      "[CV 2/5] END C=0.1, class_weight=balanced, loss=hinge, max_iter=2000;, score=0.582 total time=   2.9s\n"
     ]
    },
    {
     "name": "stderr",
     "output_type": "stream",
     "text": [
      "C:\\tools\\Anaconda3\\envs\\py\\lib\\site-packages\\sklearn\\svm\\_base.py:1206: ConvergenceWarning: Liblinear failed to converge, increase the number of iterations.\n",
      "  warnings.warn(\n"
     ]
    },
    {
     "name": "stdout",
     "output_type": "stream",
     "text": [
      "[CV 3/5] END C=0.1, class_weight=balanced, loss=hinge, max_iter=2000;, score=0.663 total time=   2.5s\n"
     ]
    },
    {
     "name": "stderr",
     "output_type": "stream",
     "text": [
      "C:\\tools\\Anaconda3\\envs\\py\\lib\\site-packages\\sklearn\\svm\\_base.py:1206: ConvergenceWarning: Liblinear failed to converge, increase the number of iterations.\n",
      "  warnings.warn(\n"
     ]
    },
    {
     "name": "stdout",
     "output_type": "stream",
     "text": [
      "[CV 4/5] END C=0.1, class_weight=balanced, loss=hinge, max_iter=2000;, score=0.771 total time=   2.7s\n"
     ]
    },
    {
     "name": "stderr",
     "output_type": "stream",
     "text": [
      "C:\\tools\\Anaconda3\\envs\\py\\lib\\site-packages\\sklearn\\svm\\_base.py:1206: ConvergenceWarning: Liblinear failed to converge, increase the number of iterations.\n",
      "  warnings.warn(\n"
     ]
    },
    {
     "name": "stdout",
     "output_type": "stream",
     "text": [
      "[CV 5/5] END C=0.1, class_weight=balanced, loss=hinge, max_iter=2000;, score=0.558 total time=   3.0s\n"
     ]
    },
    {
     "name": "stderr",
     "output_type": "stream",
     "text": [
      "C:\\tools\\Anaconda3\\envs\\py\\lib\\site-packages\\sklearn\\svm\\_base.py:1206: ConvergenceWarning: Liblinear failed to converge, increase the number of iterations.\n",
      "  warnings.warn(\n"
     ]
    },
    {
     "name": "stdout",
     "output_type": "stream",
     "text": [
      "[CV 1/5] END C=100, class_weight=None, loss=squared_hinge, max_iter=500;, score=0.714 total time=   0.6s\n"
     ]
    },
    {
     "name": "stderr",
     "output_type": "stream",
     "text": [
      "C:\\tools\\Anaconda3\\envs\\py\\lib\\site-packages\\sklearn\\svm\\_base.py:1206: ConvergenceWarning: Liblinear failed to converge, increase the number of iterations.\n",
      "  warnings.warn(\n"
     ]
    },
    {
     "name": "stdout",
     "output_type": "stream",
     "text": [
      "[CV 2/5] END C=100, class_weight=None, loss=squared_hinge, max_iter=500;, score=0.779 total time=   0.5s\n"
     ]
    },
    {
     "name": "stderr",
     "output_type": "stream",
     "text": [
      "C:\\tools\\Anaconda3\\envs\\py\\lib\\site-packages\\sklearn\\svm\\_base.py:1206: ConvergenceWarning: Liblinear failed to converge, increase the number of iterations.\n",
      "  warnings.warn(\n"
     ]
    },
    {
     "name": "stdout",
     "output_type": "stream",
     "text": [
      "[CV 3/5] END C=100, class_weight=None, loss=squared_hinge, max_iter=500;, score=0.696 total time=   0.6s\n"
     ]
    },
    {
     "name": "stderr",
     "output_type": "stream",
     "text": [
      "C:\\tools\\Anaconda3\\envs\\py\\lib\\site-packages\\sklearn\\svm\\_base.py:1206: ConvergenceWarning: Liblinear failed to converge, increase the number of iterations.\n",
      "  warnings.warn(\n"
     ]
    },
    {
     "name": "stdout",
     "output_type": "stream",
     "text": [
      "[CV 4/5] END C=100, class_weight=None, loss=squared_hinge, max_iter=500;, score=0.779 total time=   0.6s\n"
     ]
    },
    {
     "name": "stderr",
     "output_type": "stream",
     "text": [
      "C:\\tools\\Anaconda3\\envs\\py\\lib\\site-packages\\sklearn\\svm\\_base.py:1206: ConvergenceWarning: Liblinear failed to converge, increase the number of iterations.\n",
      "  warnings.warn(\n"
     ]
    },
    {
     "name": "stdout",
     "output_type": "stream",
     "text": [
      "[CV 5/5] END C=100, class_weight=None, loss=squared_hinge, max_iter=500;, score=0.538 total time=   0.5s\n"
     ]
    },
    {
     "name": "stderr",
     "output_type": "stream",
     "text": [
      "C:\\tools\\Anaconda3\\envs\\py\\lib\\site-packages\\sklearn\\svm\\_base.py:1206: ConvergenceWarning: Liblinear failed to converge, increase the number of iterations.\n",
      "  warnings.warn(\n"
     ]
    },
    {
     "data": {
      "text/plain": [
       "RandomizedSearchCV(estimator=LinearSVC(C=1000, class_weight='balanced',\n",
       "                                       loss='hinge', max_iter=500),\n",
       "                   param_distributions={'C': [0.1, 1, 100, 1000],\n",
       "                                        'class_weight': [None, 'balanced'],\n",
       "                                        'loss': ['hinge', 'squared_hinge'],\n",
       "                                        'max_iter': [500, 1000, 2000]},\n",
       "                   verbose=3)"
      ]
     },
     "execution_count": 93,
     "metadata": {},
     "output_type": "execute_result"
    }
   ],
   "source": [
    "# defining parameter range\n",
    "param_grid = { 'C':[0.1,1,100,1000],'loss':['hinge','squared_hinge'],'class_weight':[None,'balanced'],'max_iter':[500,1000,2000]}\n",
    "grid = RandomizedSearchCV(SVM_clf,param_grid,verbose=3)\n",
    "grid.fit(X_train,y_train)"
   ]
  },
  {
   "cell_type": "code",
   "execution_count": null,
   "id": "57e36192",
   "metadata": {},
   "outputs": [
    {
     "name": "stderr",
     "output_type": "stream",
     "text": [
      "C:\\tools\\Anaconda3\\envs\\py\\lib\\site-packages\\sklearn\\model_selection\\_search.py:292: UserWarning: The total space of parameters 30 is smaller than n_iter=50. Running 30 iterations. For exhaustive searches, use GridSearchCV.\n",
      "  warnings.warn(\n"
     ]
    },
    {
     "name": "stdout",
     "output_type": "stream",
     "text": [
      "Fitting 3 folds for each of 30 candidates, totalling 90 fits\n"
     ]
    }
   ],
   "source": [
    "SVM = SVC()\n",
    "#create params dictionary\n",
    "param_dict = param_grid = {'C': [10, 100, 1000],\n",
    "              'gamma': [1, 0.1, 0.01, 0.001, 0.0001],\n",
    "              'kernel': ['rbf','poly']}\n",
    "\n",
    "\n",
    "grid = RandomizedSearchCV(SVM,\n",
    "                   param_dict,\n",
    "                   n_iter=50,\n",
    "                   cv=3,\n",
    "                   verbose=3,\n",
    "                   n_jobs=-1)\n",
    "\n",
    "grid.fit(X_train,y_train)"
   ]
  },
  {
   "cell_type": "code",
   "execution_count": 71,
   "id": "7a997332",
   "metadata": {},
   "outputs": [
    {
     "name": "stdout",
     "output_type": "stream",
     "text": [
      "{'max_iter': 500, 'loss': 'hinge', 'class_weight': None, 'C': 1000}\n",
      "LinearSVC(C=1000, loss='hinge', max_iter=500)\n"
     ]
    }
   ],
   "source": [
    "print(grid.best_params_)\n",
    "print(grid.best_estimator_)"
   ]
  },
  {
   "cell_type": "code",
   "execution_count": 123,
   "id": "99fda392",
   "metadata": {},
   "outputs": [
    {
     "name": "stderr",
     "output_type": "stream",
     "text": [
      "C:\\tools\\Anaconda3\\envs\\py\\lib\\site-packages\\sklearn\\svm\\_base.py:1206: ConvergenceWarning: Liblinear failed to converge, increase the number of iterations.\n",
      "  warnings.warn(\n"
     ]
    },
    {
     "data": {
      "text/plain": [
       "0.5102348735565704"
      ]
     },
     "execution_count": 123,
     "metadata": {},
     "output_type": "execute_result"
    }
   ],
   "source": [
    "SVM_clf = LinearSVC(C=1000, loss='hinge', max_iter=500,class_weight='balanced',random_state=123)\n",
    "#fit\n",
    "SVM_clf.fit(X_train, y_train)\n",
    "#predict\n",
    "y_preds = SVM_clf.predict(X_test)\n",
    "\n",
    "fpr, tpr, thresholds = metrics.roc_curve(y_test, y_preds, pos_label=1)\n",
    "\n",
    "metrics.auc(fpr, tpr)"
   ]
  }
 ],
 "metadata": {
  "kernelspec": {
   "display_name": "Python 3 (ipykernel)",
   "language": "python",
   "name": "python3"
  },
  "language_info": {
   "codemirror_mode": {
    "name": "ipython",
    "version": 3
   },
   "file_extension": ".py",
   "mimetype": "text/x-python",
   "name": "python",
   "nbconvert_exporter": "python",
   "pygments_lexer": "ipython3",
   "version": "3.9.4"
  }
 },
 "nbformat": 4,
 "nbformat_minor": 5
}
